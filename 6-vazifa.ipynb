{
 "cells": [
  {
   "cell_type": "code",
   "execution_count": 1,
   "metadata": {},
   "outputs": [
    {
     "name": "stdout",
     "output_type": "stream",
     "text": [
      "Requirement already satisfied: sklearn.preprocessing in /Library/Frameworks/Python.framework/Versions/3.12/lib/python3.12/site-packages (0.1.0)\n",
      "\n",
      "\u001b[1m[\u001b[0m\u001b[34;49mnotice\u001b[0m\u001b[1;39;49m]\u001b[0m\u001b[39;49m A new release of pip is available: \u001b[0m\u001b[31;49m24.0\u001b[0m\u001b[39;49m -> \u001b[0m\u001b[32;49m24.3.1\u001b[0m\n",
      "\u001b[1m[\u001b[0m\u001b[34;49mnotice\u001b[0m\u001b[1;39;49m]\u001b[0m\u001b[39;49m To update, run: \u001b[0m\u001b[32;49mpip3 install --upgrade pip\u001b[0m\n",
      "Note: you may need to restart the kernel to use updated packages.\n"
     ]
    }
   ],
   "source": [
    "%pip install sklearn.preprocessing"
   ]
  },
  {
   "cell_type": "code",
   "execution_count": 2,
   "metadata": {},
   "outputs": [],
   "source": [
    "import pandas as pd\n",
    "import numpy as np\n",
    "from sklearn.preprocessing import LabelEncoder, OneHotEncoder"
   ]
  },
  {
   "cell_type": "code",
   "execution_count": 3,
   "metadata": {},
   "outputs": [],
   "source": [
    "df=pd.read_csv('Titanic-Dataset.csv')"
   ]
  },
  {
   "cell_type": "code",
   "execution_count": 4,
   "metadata": {},
   "outputs": [
    {
     "name": "stdout",
     "output_type": "stream",
     "text": [
      "<class 'pandas.core.frame.DataFrame'>\n",
      "RangeIndex: 891 entries, 0 to 890\n",
      "Data columns (total 12 columns):\n",
      " #   Column       Non-Null Count  Dtype  \n",
      "---  ------       --------------  -----  \n",
      " 0   PassengerId  891 non-null    int64  \n",
      " 1   Survived     891 non-null    int64  \n",
      " 2   Pclass       891 non-null    int64  \n",
      " 3   Name         891 non-null    object \n",
      " 4   Sex          891 non-null    object \n",
      " 5   Age          714 non-null    float64\n",
      " 6   SibSp        891 non-null    int64  \n",
      " 7   Parch        891 non-null    int64  \n",
      " 8   Ticket       891 non-null    object \n",
      " 9   Fare         891 non-null    float64\n",
      " 10  Cabin        204 non-null    object \n",
      " 11  Embarked     889 non-null    object \n",
      "dtypes: float64(2), int64(5), object(5)\n",
      "memory usage: 83.7+ KB\n"
     ]
    }
   ],
   "source": [
    "df.info()"
   ]
  },
  {
   "cell_type": "code",
   "execution_count": 6,
   "metadata": {},
   "outputs": [
    {
     "data": {
      "text/plain": [
       "PassengerId      0\n",
       "Survived         0\n",
       "Pclass           0\n",
       "Name             0\n",
       "Sex              0\n",
       "Age            177\n",
       "SibSp            0\n",
       "Parch            0\n",
       "Ticket           0\n",
       "Fare             0\n",
       "Cabin          687\n",
       "Embarked         2\n",
       "dtype: int64"
      ]
     },
     "execution_count": 6,
     "metadata": {},
     "output_type": "execute_result"
    }
   ],
   "source": [
    "df.isnull().sum()"
   ]
  },
  {
   "cell_type": "code",
   "execution_count": 7,
   "metadata": {},
   "outputs": [
    {
     "data": {
      "text/html": [
       "<div>\n",
       "<style scoped>\n",
       "    .dataframe tbody tr th:only-of-type {\n",
       "        vertical-align: middle;\n",
       "    }\n",
       "\n",
       "    .dataframe tbody tr th {\n",
       "        vertical-align: top;\n",
       "    }\n",
       "\n",
       "    .dataframe thead th {\n",
       "        text-align: right;\n",
       "    }\n",
       "</style>\n",
       "<table border=\"1\" class=\"dataframe\">\n",
       "  <thead>\n",
       "    <tr style=\"text-align: right;\">\n",
       "      <th></th>\n",
       "      <th>PassengerId</th>\n",
       "      <th>Survived</th>\n",
       "      <th>Pclass</th>\n",
       "      <th>Name</th>\n",
       "      <th>Sex</th>\n",
       "      <th>Age</th>\n",
       "      <th>SibSp</th>\n",
       "      <th>Parch</th>\n",
       "      <th>Ticket</th>\n",
       "      <th>Fare</th>\n",
       "      <th>Cabin</th>\n",
       "      <th>Embarked</th>\n",
       "    </tr>\n",
       "  </thead>\n",
       "  <tbody>\n",
       "    <tr>\n",
       "      <th>0</th>\n",
       "      <td>1</td>\n",
       "      <td>0</td>\n",
       "      <td>3</td>\n",
       "      <td>Braund, Mr. Owen Harris</td>\n",
       "      <td>male</td>\n",
       "      <td>22.0</td>\n",
       "      <td>1</td>\n",
       "      <td>0</td>\n",
       "      <td>A/5 21171</td>\n",
       "      <td>7.2500</td>\n",
       "      <td>NaN</td>\n",
       "      <td>S</td>\n",
       "    </tr>\n",
       "    <tr>\n",
       "      <th>1</th>\n",
       "      <td>2</td>\n",
       "      <td>1</td>\n",
       "      <td>1</td>\n",
       "      <td>Cumings, Mrs. John Bradley (Florence Briggs Th...</td>\n",
       "      <td>female</td>\n",
       "      <td>38.0</td>\n",
       "      <td>1</td>\n",
       "      <td>0</td>\n",
       "      <td>PC 17599</td>\n",
       "      <td>71.2833</td>\n",
       "      <td>C85</td>\n",
       "      <td>C</td>\n",
       "    </tr>\n",
       "    <tr>\n",
       "      <th>2</th>\n",
       "      <td>3</td>\n",
       "      <td>1</td>\n",
       "      <td>3</td>\n",
       "      <td>Heikkinen, Miss. Laina</td>\n",
       "      <td>female</td>\n",
       "      <td>26.0</td>\n",
       "      <td>0</td>\n",
       "      <td>0</td>\n",
       "      <td>STON/O2. 3101282</td>\n",
       "      <td>7.9250</td>\n",
       "      <td>NaN</td>\n",
       "      <td>S</td>\n",
       "    </tr>\n",
       "    <tr>\n",
       "      <th>3</th>\n",
       "      <td>4</td>\n",
       "      <td>1</td>\n",
       "      <td>1</td>\n",
       "      <td>Futrelle, Mrs. Jacques Heath (Lily May Peel)</td>\n",
       "      <td>female</td>\n",
       "      <td>35.0</td>\n",
       "      <td>1</td>\n",
       "      <td>0</td>\n",
       "      <td>113803</td>\n",
       "      <td>53.1000</td>\n",
       "      <td>C123</td>\n",
       "      <td>S</td>\n",
       "    </tr>\n",
       "    <tr>\n",
       "      <th>4</th>\n",
       "      <td>5</td>\n",
       "      <td>0</td>\n",
       "      <td>3</td>\n",
       "      <td>Allen, Mr. William Henry</td>\n",
       "      <td>male</td>\n",
       "      <td>35.0</td>\n",
       "      <td>0</td>\n",
       "      <td>0</td>\n",
       "      <td>373450</td>\n",
       "      <td>8.0500</td>\n",
       "      <td>NaN</td>\n",
       "      <td>S</td>\n",
       "    </tr>\n",
       "  </tbody>\n",
       "</table>\n",
       "</div>"
      ],
      "text/plain": [
       "   PassengerId  Survived  Pclass  \\\n",
       "0            1         0       3   \n",
       "1            2         1       1   \n",
       "2            3         1       3   \n",
       "3            4         1       1   \n",
       "4            5         0       3   \n",
       "\n",
       "                                                Name     Sex   Age  SibSp  \\\n",
       "0                            Braund, Mr. Owen Harris    male  22.0      1   \n",
       "1  Cumings, Mrs. John Bradley (Florence Briggs Th...  female  38.0      1   \n",
       "2                             Heikkinen, Miss. Laina  female  26.0      0   \n",
       "3       Futrelle, Mrs. Jacques Heath (Lily May Peel)  female  35.0      1   \n",
       "4                           Allen, Mr. William Henry    male  35.0      0   \n",
       "\n",
       "   Parch            Ticket     Fare Cabin Embarked  \n",
       "0      0         A/5 21171   7.2500   NaN        S  \n",
       "1      0          PC 17599  71.2833   C85        C  \n",
       "2      0  STON/O2. 3101282   7.9250   NaN        S  \n",
       "3      0            113803  53.1000  C123        S  \n",
       "4      0            373450   8.0500   NaN        S  "
      ]
     },
     "execution_count": 7,
     "metadata": {},
     "output_type": "execute_result"
    }
   ],
   "source": [
    "df.head()"
   ]
  },
  {
   "cell_type": "code",
   "execution_count": 26,
   "metadata": {},
   "outputs": [],
   "source": [
    "df.fillna(df['Age'].mean(), inplace=True)"
   ]
  },
  {
   "cell_type": "code",
   "execution_count": null,
   "metadata": {},
   "outputs": [],
   "source": []
  },
  {
   "cell_type": "code",
   "execution_count": 15,
   "metadata": {},
   "outputs": [],
   "source": [
    "df.fillna(df['Cabin'].mode()[0], inplace=True)"
   ]
  },
  {
   "cell_type": "code",
   "execution_count": 16,
   "metadata": {},
   "outputs": [],
   "source": [
    "df.fillna(df['Embarked'].mode()[0], inplace=True)"
   ]
  },
  {
   "cell_type": "code",
   "execution_count": 17,
   "metadata": {},
   "outputs": [
    {
     "name": "stdout",
     "output_type": "stream",
     "text": [
      "<class 'pandas.core.frame.DataFrame'>\n",
      "RangeIndex: 891 entries, 0 to 890\n",
      "Data columns (total 12 columns):\n",
      " #   Column       Non-Null Count  Dtype  \n",
      "---  ------       --------------  -----  \n",
      " 0   PassengerId  891 non-null    int64  \n",
      " 1   Survived     891 non-null    int64  \n",
      " 2   Pclass       891 non-null    int64  \n",
      " 3   Name         891 non-null    object \n",
      " 4   Sex          891 non-null    object \n",
      " 5   Age          891 non-null    float64\n",
      " 6   SibSp        891 non-null    int64  \n",
      " 7   Parch        891 non-null    int64  \n",
      " 8   Ticket       891 non-null    object \n",
      " 9   Fare         891 non-null    float64\n",
      " 10  Cabin        891 non-null    object \n",
      " 11  Embarked     891 non-null    object \n",
      "dtypes: float64(2), int64(5), object(5)\n",
      "memory usage: 83.7+ KB\n"
     ]
    }
   ],
   "source": [
    "df.info()"
   ]
  },
  {
   "cell_type": "code",
   "execution_count": 18,
   "metadata": {},
   "outputs": [
    {
     "data": {
      "text/plain": [
       "0                                Braund, Mr. Owen Harris\n",
       "1      Cumings, Mrs. John Bradley (Florence Briggs Th...\n",
       "2                                 Heikkinen, Miss. Laina\n",
       "3           Futrelle, Mrs. Jacques Heath (Lily May Peel)\n",
       "4                               Allen, Mr. William Henry\n",
       "                             ...                        \n",
       "886                                Montvila, Rev. Juozas\n",
       "887                         Graham, Miss. Margaret Edith\n",
       "888             Johnston, Miss. Catherine Helen \"Carrie\"\n",
       "889                                Behr, Mr. Karl Howell\n",
       "890                                  Dooley, Mr. Patrick\n",
       "Name: Name, Length: 891, dtype: object"
      ]
     },
     "execution_count": 18,
     "metadata": {},
     "output_type": "execute_result"
    }
   ],
   "source": [
    "df['Name']"
   ]
  },
  {
   "cell_type": "code",
   "execution_count": 9,
   "metadata": {},
   "outputs": [],
   "source": [
    "rangni_ozgartir=LabelEncoder()"
   ]
  },
  {
   "cell_type": "code",
   "execution_count": 10,
   "metadata": {},
   "outputs": [],
   "source": [
    "df['Name']=rangni_ozgartir.fit_transform(df['Name'])"
   ]
  },
  {
   "cell_type": "code",
   "execution_count": 16,
   "metadata": {},
   "outputs": [
    {
     "data": {
      "text/plain": [
       "array([108, 190, 353, 272,  15, 554, 515, 624, 412, 576, 727,  95, 729,\n",
       "        28, 840, 359, 682, 867, 839, 512, 273,  80, 523, 765, 626,  44,\n",
       "       240, 260, 605, 813, 828, 776, 289, 856, 535, 372, 505, 134, 837,\n",
       "       589,   7, 827, 446, 456, 212, 697, 473, 604, 726,  38, 629, 594,\n",
       "       333, 246, 620, 873, 707, 595, 853, 299, 749, 385, 337, 755, 784,\n",
       "       560, 596, 185,  25, 440, 396, 300, 376, 161,  87, 546, 778, 563,\n",
       "       127, 223, 842, 737, 519, 141, 386,  52, 255, 764, 259, 149, 159,\n",
       "        31, 150, 209, 184, 740, 292, 308, 219, 422, 656, 658, 858, 405,\n",
       "       312, 542, 724, 559, 675, 552, 667, 882,  67, 417,  46, 645, 178,\n",
       "       826,  70,  24, 362, 551, 575, 848, 857, 588, 525, 499, 653, 234,\n",
       "       225, 165, 695, 851, 772, 685, 585, 271, 618, 282,  99, 597, 319,\n",
       "       116,  32, 586,  29, 254, 580, 121,  68, 643, 532, 889, 612, 866,\n",
       "       287, 181, 767, 716, 186, 847,  82, 129, 628, 293, 157, 760,  69,\n",
       "       486, 832, 680, 408, 752, 769, 444, 464, 388, 320, 474, 717, 650,\n",
       "        41,  76, 441, 700, 601, 698, 101, 823, 664, 136,  20, 579, 113,\n",
       "       495, 533, 611, 497, 881, 834, 721, 403, 878, 166, 789,  51,   9,\n",
       "       140,  94,  12, 131, 649, 288, 437, 582, 375, 390,  72, 338, 791,\n",
       "       105, 306, 581, 379,  83, 531, 492, 243, 467, 339, 460, 754,  43,\n",
       "       479, 329, 370, 172, 648, 383, 883, 567, 169, 500,  47, 539, 481,\n",
       "       322,  78, 147, 673, 790, 782, 487, 702, 819, 808, 156, 844, 636,\n",
       "       771,  42, 799, 340, 356, 674, 631, 652, 305,  91, 125, 817, 530,\n",
       "       577, 350,  33, 482, 634, 681,   2, 227, 614, 887, 221, 770, 779,\n",
       "       886, 570, 378, 177,  65,  90, 477, 315, 541, 478, 324,  17, 714,\n",
       "        71, 431, 518, 411, 428, 868,  16, 248, 647,   3, 263, 348, 710,\n",
       "       449, 355, 342, 590, 423, 555, 859, 775, 211, 200, 762, 128, 722,\n",
       "       877, 598,  60, 295, 363, 517, 637, 304, 838, 265, 210, 642, 117,\n",
       "       192,  93, 578, 258, 170, 733, 262, 111, 768, 207, 183, 215, 608,\n",
       "       870, 237,  37, 879, 835, 104, 270, 522, 545, 759, 888,  64,  40,\n",
       "       599,   5, 845, 562, 400,  48, 328, 863,  75, 690, 625, 536, 454,\n",
       "       862,  85, 314,  86, 572, 811, 373, 665, 205, 298, 118, 715, 468,\n",
       "       144, 393, 313, 583, 728, 404, 613, 524, 623, 821, 592,   6, 418,\n",
       "       318, 616, 274, 861, 687,  88, 465, 732, 343, 540, 191, 792, 528,\n",
       "       226, 742, 513, 829, 281, 155, 884, 198, 701, 872, 162, 662, 249,\n",
       "       663,  92, 810, 491, 420, 744, 143, 253, 688, 261, 447, 344, 323,\n",
       "       659, 679, 402, 216, 529, 735,  55, 661, 854, 316, 257, 290, 644,\n",
       "       392, 537, 436, 815, 603,  21, 557, 280, 538, 502, 296, 132, 766,\n",
       "       731,  54, 430, 124, 855, 401, 787, 164, 676, 107, 425, 365, 297,\n",
       "       268, 706, 825,  89, 466, 381, 435, 774, 182, 317, 871, 547,  39,\n",
       "       781, 880, 242, 738,  18, 796, 130, 133, 607, 450, 501, 646, 670,\n",
       "       106, 610, 455, 195, 849, 521, 705, 168, 843, 472, 709,  35, 641,\n",
       "       651, 841, 448, 364, 427, 244, 689, 245, 725, 366, 669, 818, 236,\n",
       "       654, 123, 341, 120, 461, 692, 266, 188,  26,  27,  73, 222, 587,\n",
       "        74, 622, 294, 203, 804, 736, 600, 463, 609, 874, 228, 693, 800,\n",
       "       885, 558, 751, 593, 746, 527, 204, 786, 627, 217, 416, 336,  36,\n",
       "       251, 432, 708, 639, 277, 745, 135, 419, 160, 805, 224, 703, 640,\n",
       "       798, 395, 267, 284, 566, 691, 783, 238, 100, 154, 830, 470, 409,\n",
       "        98, 229, 391, 761, 335, 816, 374, 483, 424, 199, 458, 741,  30,\n",
       "       394, 568, 377, 110, 357, 197, 488,  77, 279, 875, 439, 573, 327,\n",
       "       103, 794, 442, 490,  96, 602,  66, 494, 777, 635, 757, 206, 469,\n",
       "       173, 633, 809, 397, 723, 758, 252,  53, 332, 180, 747, 865, 780,\n",
       "       544, 218, 421, 606, 352, 360, 671, 102, 232, 584, 264,  57, 171,\n",
       "       167, 484, 361, 119, 699, 179, 802, 114, 202, 543, 864, 846, 231,\n",
       "       730, 824, 302, 137, 655, 345, 615, 301, 112, 457, 632, 194, 247,\n",
       "       498, 213, 426, 452, 713, 850, 153, 433, 565, 803, 382,  45, 743,\n",
       "        63, 275, 326, 556, 434, 126, 163, 561, 514, 443, 801, 459, 307,\n",
       "       773, 241, 822, 520, 410, 331, 399, 286, 368, 151, 617, 677, 507,\n",
       "       115, 387,  14, 346, 445,  84, 820, 869, 256, 476, 389, 574, 347,\n",
       "       148, 711, 526, 788, 187,   1, 748, 511, 176, 852, 549, 833, 415,\n",
       "       358, 321, 138,  58, 806, 704, 276, 591,  62, 146, 233, 369, 109,\n",
       "       506, 553, 309, 480, 398, 496, 235, 367, 569, 812, 239, 438, 694,\n",
       "        50, 214, 489, 414,  13, 330, 753, 683, 208, 310, 429, 278, 719,\n",
       "       380, 201, 621, 462, 619, 384, 831, 666, 174, 142, 807, 351, 406,\n",
       "        34, 660, 534, 152,  10, 475, 763,  23, 814, 269, 354, 504, 371,\n",
       "       756, 349, 493, 678, 550, 630, 250, 453, 503, 516, 785, 876, 686,\n",
       "       712,  49,  19, 175, 638, 750, 158, 508,  11, 564, 734, 471, 189,\n",
       "         0, 720, 509, 334, 291,  22, 795,  97, 485, 145,   8, 860, 196,\n",
       "        56, 672, 325, 283, 797, 718, 285, 122, 230, 696, 890, 407,  59,\n",
       "        79, 139, 836,   4, 571, 311, 657, 451, 668, 739, 510, 193,  61,\n",
       "       793, 684, 548, 303, 413,  81, 220])"
      ]
     },
     "execution_count": 16,
     "metadata": {},
     "output_type": "execute_result"
    }
   ],
   "source": [
    "df['Name'].unique()"
   ]
  },
  {
   "cell_type": "code",
   "execution_count": null,
   "metadata": {},
   "outputs": [],
   "source": []
  },
  {
   "cell_type": "code",
   "execution_count": 11,
   "metadata": {},
   "outputs": [
    {
     "name": "stdout",
     "output_type": "stream",
     "text": [
      "<class 'pandas.core.frame.DataFrame'>\n",
      "RangeIndex: 891 entries, 0 to 890\n",
      "Data columns (total 12 columns):\n",
      " #   Column       Non-Null Count  Dtype  \n",
      "---  ------       --------------  -----  \n",
      " 0   PassengerId  891 non-null    int64  \n",
      " 1   Survived     891 non-null    int64  \n",
      " 2   Pclass       891 non-null    int64  \n",
      " 3   Name         891 non-null    int64  \n",
      " 4   Sex          891 non-null    object \n",
      " 5   Age          714 non-null    float64\n",
      " 6   SibSp        891 non-null    int64  \n",
      " 7   Parch        891 non-null    int64  \n",
      " 8   Ticket       891 non-null    object \n",
      " 9   Fare         891 non-null    float64\n",
      " 10  Cabin        204 non-null    object \n",
      " 11  Embarked     889 non-null    object \n",
      "dtypes: float64(2), int64(6), object(4)\n",
      "memory usage: 83.7+ KB\n"
     ]
    }
   ],
   "source": [
    "df.info()"
   ]
  },
  {
   "cell_type": "code",
   "execution_count": 13,
   "metadata": {},
   "outputs": [],
   "source": [
    "df['Sex']=rangni_ozgartir.fit_transform(df['Sex'])"
   ]
  },
  {
   "cell_type": "code",
   "execution_count": 14,
   "metadata": {},
   "outputs": [
    {
     "name": "stdout",
     "output_type": "stream",
     "text": [
      "<class 'pandas.core.frame.DataFrame'>\n",
      "RangeIndex: 891 entries, 0 to 890\n",
      "Data columns (total 12 columns):\n",
      " #   Column       Non-Null Count  Dtype  \n",
      "---  ------       --------------  -----  \n",
      " 0   PassengerId  891 non-null    int64  \n",
      " 1   Survived     891 non-null    int64  \n",
      " 2   Pclass       891 non-null    int64  \n",
      " 3   Name         891 non-null    int64  \n",
      " 4   Sex          891 non-null    int64  \n",
      " 5   Age          714 non-null    float64\n",
      " 6   SibSp        891 non-null    int64  \n",
      " 7   Parch        891 non-null    int64  \n",
      " 8   Ticket       891 non-null    object \n",
      " 9   Fare         891 non-null    float64\n",
      " 10  Cabin        204 non-null    object \n",
      " 11  Embarked     889 non-null    object \n",
      "dtypes: float64(2), int64(7), object(3)\n",
      "memory usage: 83.7+ KB\n"
     ]
    }
   ],
   "source": [
    "df.info()"
   ]
  },
  {
   "cell_type": "code",
   "execution_count": 15,
   "metadata": {},
   "outputs": [
    {
     "data": {
      "text/plain": [
       "array([1, 0])"
      ]
     },
     "execution_count": 15,
     "metadata": {},
     "output_type": "execute_result"
    }
   ],
   "source": [
    "df['Sex'].unique()"
   ]
  },
  {
   "cell_type": "code",
   "execution_count": 17,
   "metadata": {},
   "outputs": [],
   "source": [
    "df['Ticket']=rangni_ozgartir.fit_transform(df['Ticket'])"
   ]
  },
  {
   "cell_type": "code",
   "execution_count": 19,
   "metadata": {},
   "outputs": [],
   "source": [
    "df['Cabin']=rangni_ozgartir.fit_transform(df['Cabin'])"
   ]
  },
  {
   "cell_type": "code",
   "execution_count": 20,
   "metadata": {},
   "outputs": [],
   "source": [
    "df['Embarked']=rangni_ozgartir.fit_transform(df['Embarked'])"
   ]
  },
  {
   "cell_type": "code",
   "execution_count": null,
   "metadata": {},
   "outputs": [],
   "source": [
    "rangni_ozgartir = df.select_dtypes(include=['object', 'category']).columns.tolist()\n",
    "# bu code df ichidagi barcha matnli ustunlarni topadi va o'ziga saqlaydi\n",
    "# bu code tepadagi alohida yozib chiqilgan code larning umumiy bitta qilib yozilgan variyanti,"
   ]
  },
  {
   "cell_type": "code",
   "execution_count": 30,
   "metadata": {},
   "outputs": [
    {
     "name": "stdout",
     "output_type": "stream",
     "text": [
      "<class 'pandas.core.frame.DataFrame'>\n",
      "RangeIndex: 891 entries, 0 to 890\n",
      "Data columns (total 12 columns):\n",
      " #   Column       Non-Null Count  Dtype  \n",
      "---  ------       --------------  -----  \n",
      " 0   PassengerId  891 non-null    int64  \n",
      " 1   Survived     891 non-null    int64  \n",
      " 2   Pclass       891 non-null    int64  \n",
      " 3   Name         891 non-null    int64  \n",
      " 4   Sex          891 non-null    int64  \n",
      " 5   Age          891 non-null    float64\n",
      " 6   SibSp        891 non-null    int64  \n",
      " 7   Parch        891 non-null    int64  \n",
      " 8   Ticket       891 non-null    int64  \n",
      " 9   Fare         891 non-null    float64\n",
      " 10  Cabin        891 non-null    int64  \n",
      " 11  Embarked     891 non-null    int64  \n",
      "dtypes: float64(2), int64(10)\n",
      "memory usage: 83.7 KB\n"
     ]
    }
   ],
   "source": [
    "df.info()"
   ]
  },
  {
   "cell_type": "code",
   "execution_count": null,
   "metadata": {},
   "outputs": [],
   "source": []
  },
  {
   "cell_type": "code",
   "execution_count": 28,
   "metadata": {},
   "outputs": [
    {
     "data": {
      "text/plain": [
       "89"
      ]
     },
     "execution_count": 28,
     "metadata": {},
     "output_type": "execute_result"
    }
   ],
   "source": [
    "df['Age'].nunique()"
   ]
  },
  {
   "cell_type": "code",
   "execution_count": 29,
   "metadata": {},
   "outputs": [
    {
     "data": {
      "text/plain": [
       "Age\n",
       "29.699118    177\n",
       "24.000000     30\n",
       "22.000000     27\n",
       "18.000000     26\n",
       "28.000000     25\n",
       "            ... \n",
       "36.500000      1\n",
       "55.500000      1\n",
       "0.920000       1\n",
       "23.500000      1\n",
       "74.000000      1\n",
       "Name: count, Length: 89, dtype: int64"
      ]
     },
     "execution_count": 29,
     "metadata": {},
     "output_type": "execute_result"
    }
   ],
   "source": [
    "df['Age'].value_counts()"
   ]
  },
  {
   "cell_type": "code",
   "execution_count": 31,
   "metadata": {},
   "outputs": [
    {
     "name": "stdout",
     "output_type": "stream",
     "text": [
      "<class 'pandas.core.frame.DataFrame'>\n",
      "RangeIndex: 891 entries, 0 to 890\n",
      "Data columns (total 12 columns):\n",
      " #   Column       Non-Null Count  Dtype  \n",
      "---  ------       --------------  -----  \n",
      " 0   PassengerId  891 non-null    int64  \n",
      " 1   Survived     891 non-null    int64  \n",
      " 2   Pclass       891 non-null    int64  \n",
      " 3   Name         891 non-null    int64  \n",
      " 4   Sex          891 non-null    int64  \n",
      " 5   Age          891 non-null    float64\n",
      " 6   SibSp        891 non-null    int64  \n",
      " 7   Parch        891 non-null    int64  \n",
      " 8   Ticket       891 non-null    int64  \n",
      " 9   Fare         891 non-null    float64\n",
      " 10  Cabin        891 non-null    int64  \n",
      " 11  Embarked     891 non-null    int64  \n",
      "dtypes: float64(2), int64(10)\n",
      "memory usage: 83.7 KB\n"
     ]
    }
   ],
   "source": [
    "df.info()"
   ]
  },
  {
   "cell_type": "code",
   "execution_count": null,
   "metadata": {},
   "outputs": [],
   "source": [
    "df['Age'] = df['Age'].astype(int) # bu yerda Age ustunini butun songa (int) o'tkazib oldik\n"
   ]
  },
  {
   "cell_type": "code",
   "execution_count": 36,
   "metadata": {},
   "outputs": [
    {
     "name": "stdout",
     "output_type": "stream",
     "text": [
      "<class 'pandas.core.frame.DataFrame'>\n",
      "RangeIndex: 891 entries, 0 to 890\n",
      "Data columns (total 12 columns):\n",
      " #   Column       Non-Null Count  Dtype  \n",
      "---  ------       --------------  -----  \n",
      " 0   PassengerId  891 non-null    int64  \n",
      " 1   Survived     891 non-null    int64  \n",
      " 2   Pclass       891 non-null    int64  \n",
      " 3   Name         891 non-null    int64  \n",
      " 4   Sex          891 non-null    int64  \n",
      " 5   Age          891 non-null    int64  \n",
      " 6   SibSp        891 non-null    int64  \n",
      " 7   Parch        891 non-null    int64  \n",
      " 8   Ticket       891 non-null    int64  \n",
      " 9   Fare         891 non-null    float64\n",
      " 10  Cabin        891 non-null    int64  \n",
      " 11  Embarked     891 non-null    int64  \n",
      "dtypes: float64(1), int64(11)\n",
      "memory usage: 83.7 KB\n"
     ]
    }
   ],
   "source": [
    "df.info()"
   ]
  },
  {
   "cell_type": "code",
   "execution_count": 37,
   "metadata": {},
   "outputs": [
    {
     "data": {
      "text/plain": [
       "Fare\n",
       "8.0500     43\n",
       "13.0000    42\n",
       "7.8958     38\n",
       "7.7500     34\n",
       "26.0000    31\n",
       "           ..\n",
       "35.0000     1\n",
       "28.5000     1\n",
       "6.2375      1\n",
       "14.0000     1\n",
       "10.5167     1\n",
       "Name: count, Length: 248, dtype: int64"
      ]
     },
     "execution_count": 37,
     "metadata": {},
     "output_type": "execute_result"
    }
   ],
   "source": [
    "df['Fare'].value_counts()"
   ]
  },
  {
   "cell_type": "code",
   "execution_count": 38,
   "metadata": {},
   "outputs": [
    {
     "name": "stdout",
     "output_type": "stream",
     "text": [
      "<class 'pandas.core.frame.DataFrame'>\n",
      "RangeIndex: 891 entries, 0 to 890\n",
      "Data columns (total 12 columns):\n",
      " #   Column       Non-Null Count  Dtype  \n",
      "---  ------       --------------  -----  \n",
      " 0   PassengerId  891 non-null    int64  \n",
      " 1   Survived     891 non-null    int64  \n",
      " 2   Pclass       891 non-null    int64  \n",
      " 3   Name         891 non-null    int64  \n",
      " 4   Sex          891 non-null    int64  \n",
      " 5   Age          891 non-null    int64  \n",
      " 6   SibSp        891 non-null    int64  \n",
      " 7   Parch        891 non-null    int64  \n",
      " 8   Ticket       891 non-null    int64  \n",
      " 9   Fare         891 non-null    float64\n",
      " 10  Cabin        891 non-null    int64  \n",
      " 11  Embarked     891 non-null    int64  \n",
      "dtypes: float64(1), int64(11)\n",
      "memory usage: 83.7 KB\n"
     ]
    }
   ],
   "source": [
    "df.info()"
   ]
  },
  {
   "cell_type": "code",
   "execution_count": 39,
   "metadata": {},
   "outputs": [],
   "source": [
    "df['Fare']=df['Fare'].astype(int)"
   ]
  },
  {
   "cell_type": "code",
   "execution_count": 40,
   "metadata": {},
   "outputs": [
    {
     "name": "stdout",
     "output_type": "stream",
     "text": [
      "<class 'pandas.core.frame.DataFrame'>\n",
      "RangeIndex: 891 entries, 0 to 890\n",
      "Data columns (total 12 columns):\n",
      " #   Column       Non-Null Count  Dtype\n",
      "---  ------       --------------  -----\n",
      " 0   PassengerId  891 non-null    int64\n",
      " 1   Survived     891 non-null    int64\n",
      " 2   Pclass       891 non-null    int64\n",
      " 3   Name         891 non-null    int64\n",
      " 4   Sex          891 non-null    int64\n",
      " 5   Age          891 non-null    int64\n",
      " 6   SibSp        891 non-null    int64\n",
      " 7   Parch        891 non-null    int64\n",
      " 8   Ticket       891 non-null    int64\n",
      " 9   Fare         891 non-null    int64\n",
      " 10  Cabin        891 non-null    int64\n",
      " 11  Embarked     891 non-null    int64\n",
      "dtypes: int64(12)\n",
      "memory usage: 83.7 KB\n"
     ]
    }
   ],
   "source": [
    "df.info()"
   ]
  },
  {
   "cell_type": "markdown",
   "metadata": {},
   "source": [
    "# shu yergacha barcha ustunlardagi datalarni tozalab oldik va ulardagi kamchiliklarni to'ldirdik"
   ]
  },
  {
   "cell_type": "code",
   "execution_count": null,
   "metadata": {},
   "outputs": [],
   "source": [
    "df.dropna(axis=1, inplace=True)\n",
    " # kodining vazifasi NaN qiymatlar mavjud bo‘lgan ustunlarni olib tashlab, asl DataFrame-ni o‘z holida yangilashdir.\n",
    "\n",
    "df.fillna(0, inplace=True) #kodi pandas DataFrame ichidagi NaN (bo‘sh yoki yetishmayotgan) qiymatlarni 0 bilan to‘ldirish uchun ishlatiladi."
   ]
  },
  {
   "cell_type": "code",
   "execution_count": 44,
   "metadata": {},
   "outputs": [],
   "source": [
    "encodedqilaman = pd.get_dummies(df, columns=['Age'], drop_first=False)\n",
    "# bu code one hot encoded da matnli datalarni yangi ustunlar ochib sonli qilib saqlaydi\n"
   ]
  },
  {
   "cell_type": "code",
   "execution_count": 46,
   "metadata": {},
   "outputs": [
    {
     "data": {
      "text/plain": [
       "71"
      ]
     },
     "execution_count": 46,
     "metadata": {},
     "output_type": "execute_result"
    }
   ],
   "source": [
    "df['Age'].nunique()"
   ]
  },
  {
   "cell_type": "code",
   "execution_count": 47,
   "metadata": {},
   "outputs": [
    {
     "name": "stdout",
     "output_type": "stream",
     "text": [
      "<class 'pandas.core.frame.DataFrame'>\n",
      "RangeIndex: 891 entries, 0 to 890\n",
      "Data columns (total 82 columns):\n",
      " #   Column       Non-Null Count  Dtype\n",
      "---  ------       --------------  -----\n",
      " 0   PassengerId  891 non-null    int64\n",
      " 1   Survived     891 non-null    int64\n",
      " 2   Pclass       891 non-null    int64\n",
      " 3   Name         891 non-null    int64\n",
      " 4   Sex          891 non-null    int64\n",
      " 5   SibSp        891 non-null    int64\n",
      " 6   Parch        891 non-null    int64\n",
      " 7   Ticket       891 non-null    int64\n",
      " 8   Fare         891 non-null    int64\n",
      " 9   Cabin        891 non-null    int64\n",
      " 10  Embarked     891 non-null    int64\n",
      " 11  Age_0        891 non-null    bool \n",
      " 12  Age_1        891 non-null    bool \n",
      " 13  Age_2        891 non-null    bool \n",
      " 14  Age_3        891 non-null    bool \n",
      " 15  Age_4        891 non-null    bool \n",
      " 16  Age_5        891 non-null    bool \n",
      " 17  Age_6        891 non-null    bool \n",
      " 18  Age_7        891 non-null    bool \n",
      " 19  Age_8        891 non-null    bool \n",
      " 20  Age_9        891 non-null    bool \n",
      " 21  Age_10       891 non-null    bool \n",
      " 22  Age_11       891 non-null    bool \n",
      " 23  Age_12       891 non-null    bool \n",
      " 24  Age_13       891 non-null    bool \n",
      " 25  Age_14       891 non-null    bool \n",
      " 26  Age_15       891 non-null    bool \n",
      " 27  Age_16       891 non-null    bool \n",
      " 28  Age_17       891 non-null    bool \n",
      " 29  Age_18       891 non-null    bool \n",
      " 30  Age_19       891 non-null    bool \n",
      " 31  Age_20       891 non-null    bool \n",
      " 32  Age_21       891 non-null    bool \n",
      " 33  Age_22       891 non-null    bool \n",
      " 34  Age_23       891 non-null    bool \n",
      " 35  Age_24       891 non-null    bool \n",
      " 36  Age_25       891 non-null    bool \n",
      " 37  Age_26       891 non-null    bool \n",
      " 38  Age_27       891 non-null    bool \n",
      " 39  Age_28       891 non-null    bool \n",
      " 40  Age_29       891 non-null    bool \n",
      " 41  Age_30       891 non-null    bool \n",
      " 42  Age_31       891 non-null    bool \n",
      " 43  Age_32       891 non-null    bool \n",
      " 44  Age_33       891 non-null    bool \n",
      " 45  Age_34       891 non-null    bool \n",
      " 46  Age_35       891 non-null    bool \n",
      " 47  Age_36       891 non-null    bool \n",
      " 48  Age_37       891 non-null    bool \n",
      " 49  Age_38       891 non-null    bool \n",
      " 50  Age_39       891 non-null    bool \n",
      " 51  Age_40       891 non-null    bool \n",
      " 52  Age_41       891 non-null    bool \n",
      " 53  Age_42       891 non-null    bool \n",
      " 54  Age_43       891 non-null    bool \n",
      " 55  Age_44       891 non-null    bool \n",
      " 56  Age_45       891 non-null    bool \n",
      " 57  Age_46       891 non-null    bool \n",
      " 58  Age_47       891 non-null    bool \n",
      " 59  Age_48       891 non-null    bool \n",
      " 60  Age_49       891 non-null    bool \n",
      " 61  Age_50       891 non-null    bool \n",
      " 62  Age_51       891 non-null    bool \n",
      " 63  Age_52       891 non-null    bool \n",
      " 64  Age_53       891 non-null    bool \n",
      " 65  Age_54       891 non-null    bool \n",
      " 66  Age_55       891 non-null    bool \n",
      " 67  Age_56       891 non-null    bool \n",
      " 68  Age_57       891 non-null    bool \n",
      " 69  Age_58       891 non-null    bool \n",
      " 70  Age_59       891 non-null    bool \n",
      " 71  Age_60       891 non-null    bool \n",
      " 72  Age_61       891 non-null    bool \n",
      " 73  Age_62       891 non-null    bool \n",
      " 74  Age_63       891 non-null    bool \n",
      " 75  Age_64       891 non-null    bool \n",
      " 76  Age_65       891 non-null    bool \n",
      " 77  Age_66       891 non-null    bool \n",
      " 78  Age_70       891 non-null    bool \n",
      " 79  Age_71       891 non-null    bool \n",
      " 80  Age_74       891 non-null    bool \n",
      " 81  Age_80       891 non-null    bool \n",
      "dtypes: bool(71), int64(11)\n",
      "memory usage: 138.5 KB\n"
     ]
    }
   ],
   "source": [
    "encodedqilaman.info() # bu yerda alohida ustun qilib saqlanganini ko'ramiz"
   ]
  },
  {
   "cell_type": "code",
   "execution_count": 49,
   "metadata": {},
   "outputs": [
    {
     "data": {
      "text/html": [
       "<div>\n",
       "<style scoped>\n",
       "    .dataframe tbody tr th:only-of-type {\n",
       "        vertical-align: middle;\n",
       "    }\n",
       "\n",
       "    .dataframe tbody tr th {\n",
       "        vertical-align: top;\n",
       "    }\n",
       "\n",
       "    .dataframe thead th {\n",
       "        text-align: right;\n",
       "    }\n",
       "</style>\n",
       "<table border=\"1\" class=\"dataframe\">\n",
       "  <thead>\n",
       "    <tr style=\"text-align: right;\">\n",
       "      <th></th>\n",
       "      <th>PassengerId</th>\n",
       "      <th>Survived</th>\n",
       "      <th>Pclass</th>\n",
       "      <th>Name</th>\n",
       "      <th>Sex</th>\n",
       "      <th>SibSp</th>\n",
       "      <th>Parch</th>\n",
       "      <th>Ticket</th>\n",
       "      <th>Fare</th>\n",
       "      <th>Cabin</th>\n",
       "      <th>...</th>\n",
       "      <th>Age_61</th>\n",
       "      <th>Age_62</th>\n",
       "      <th>Age_63</th>\n",
       "      <th>Age_64</th>\n",
       "      <th>Age_65</th>\n",
       "      <th>Age_66</th>\n",
       "      <th>Age_70</th>\n",
       "      <th>Age_71</th>\n",
       "      <th>Age_74</th>\n",
       "      <th>Age_80</th>\n",
       "    </tr>\n",
       "  </thead>\n",
       "  <tbody>\n",
       "    <tr>\n",
       "      <th>0</th>\n",
       "      <td>1</td>\n",
       "      <td>0</td>\n",
       "      <td>3</td>\n",
       "      <td>108</td>\n",
       "      <td>1</td>\n",
       "      <td>1</td>\n",
       "      <td>0</td>\n",
       "      <td>523</td>\n",
       "      <td>7</td>\n",
       "      <td>147</td>\n",
       "      <td>...</td>\n",
       "      <td>False</td>\n",
       "      <td>False</td>\n",
       "      <td>False</td>\n",
       "      <td>False</td>\n",
       "      <td>False</td>\n",
       "      <td>False</td>\n",
       "      <td>False</td>\n",
       "      <td>False</td>\n",
       "      <td>False</td>\n",
       "      <td>False</td>\n",
       "    </tr>\n",
       "    <tr>\n",
       "      <th>1</th>\n",
       "      <td>2</td>\n",
       "      <td>1</td>\n",
       "      <td>1</td>\n",
       "      <td>190</td>\n",
       "      <td>0</td>\n",
       "      <td>1</td>\n",
       "      <td>0</td>\n",
       "      <td>596</td>\n",
       "      <td>71</td>\n",
       "      <td>81</td>\n",
       "      <td>...</td>\n",
       "      <td>False</td>\n",
       "      <td>False</td>\n",
       "      <td>False</td>\n",
       "      <td>False</td>\n",
       "      <td>False</td>\n",
       "      <td>False</td>\n",
       "      <td>False</td>\n",
       "      <td>False</td>\n",
       "      <td>False</td>\n",
       "      <td>False</td>\n",
       "    </tr>\n",
       "    <tr>\n",
       "      <th>2</th>\n",
       "      <td>3</td>\n",
       "      <td>1</td>\n",
       "      <td>3</td>\n",
       "      <td>353</td>\n",
       "      <td>0</td>\n",
       "      <td>0</td>\n",
       "      <td>0</td>\n",
       "      <td>669</td>\n",
       "      <td>7</td>\n",
       "      <td>147</td>\n",
       "      <td>...</td>\n",
       "      <td>False</td>\n",
       "      <td>False</td>\n",
       "      <td>False</td>\n",
       "      <td>False</td>\n",
       "      <td>False</td>\n",
       "      <td>False</td>\n",
       "      <td>False</td>\n",
       "      <td>False</td>\n",
       "      <td>False</td>\n",
       "      <td>False</td>\n",
       "    </tr>\n",
       "    <tr>\n",
       "      <th>3</th>\n",
       "      <td>4</td>\n",
       "      <td>1</td>\n",
       "      <td>1</td>\n",
       "      <td>272</td>\n",
       "      <td>0</td>\n",
       "      <td>1</td>\n",
       "      <td>0</td>\n",
       "      <td>49</td>\n",
       "      <td>53</td>\n",
       "      <td>55</td>\n",
       "      <td>...</td>\n",
       "      <td>False</td>\n",
       "      <td>False</td>\n",
       "      <td>False</td>\n",
       "      <td>False</td>\n",
       "      <td>False</td>\n",
       "      <td>False</td>\n",
       "      <td>False</td>\n",
       "      <td>False</td>\n",
       "      <td>False</td>\n",
       "      <td>False</td>\n",
       "    </tr>\n",
       "    <tr>\n",
       "      <th>4</th>\n",
       "      <td>5</td>\n",
       "      <td>0</td>\n",
       "      <td>3</td>\n",
       "      <td>15</td>\n",
       "      <td>1</td>\n",
       "      <td>0</td>\n",
       "      <td>0</td>\n",
       "      <td>472</td>\n",
       "      <td>8</td>\n",
       "      <td>147</td>\n",
       "      <td>...</td>\n",
       "      <td>False</td>\n",
       "      <td>False</td>\n",
       "      <td>False</td>\n",
       "      <td>False</td>\n",
       "      <td>False</td>\n",
       "      <td>False</td>\n",
       "      <td>False</td>\n",
       "      <td>False</td>\n",
       "      <td>False</td>\n",
       "      <td>False</td>\n",
       "    </tr>\n",
       "  </tbody>\n",
       "</table>\n",
       "<p>5 rows × 82 columns</p>\n",
       "</div>"
      ],
      "text/plain": [
       "   PassengerId  Survived  Pclass  Name  Sex  SibSp  Parch  Ticket  Fare  \\\n",
       "0            1         0       3   108    1      1      0     523     7   \n",
       "1            2         1       1   190    0      1      0     596    71   \n",
       "2            3         1       3   353    0      0      0     669     7   \n",
       "3            4         1       1   272    0      1      0      49    53   \n",
       "4            5         0       3    15    1      0      0     472     8   \n",
       "\n",
       "   Cabin  ...  Age_61  Age_62  Age_63  Age_64  Age_65  Age_66  Age_70  Age_71  \\\n",
       "0    147  ...   False   False   False   False   False   False   False   False   \n",
       "1     81  ...   False   False   False   False   False   False   False   False   \n",
       "2    147  ...   False   False   False   False   False   False   False   False   \n",
       "3     55  ...   False   False   False   False   False   False   False   False   \n",
       "4    147  ...   False   False   False   False   False   False   False   False   \n",
       "\n",
       "   Age_74  Age_80  \n",
       "0   False   False  \n",
       "1   False   False  \n",
       "2   False   False  \n",
       "3   False   False  \n",
       "4   False   False  \n",
       "\n",
       "[5 rows x 82 columns]"
      ]
     },
     "execution_count": 49,
     "metadata": {},
     "output_type": "execute_result"
    }
   ],
   "source": [
    "encodedqilaman.head()"
   ]
  },
  {
   "cell_type": "code",
   "execution_count": 50,
   "metadata": {},
   "outputs": [
    {
     "data": {
      "text/html": [
       "<div>\n",
       "<style scoped>\n",
       "    .dataframe tbody tr th:only-of-type {\n",
       "        vertical-align: middle;\n",
       "    }\n",
       "\n",
       "    .dataframe tbody tr th {\n",
       "        vertical-align: top;\n",
       "    }\n",
       "\n",
       "    .dataframe thead th {\n",
       "        text-align: right;\n",
       "    }\n",
       "</style>\n",
       "<table border=\"1\" class=\"dataframe\">\n",
       "  <thead>\n",
       "    <tr style=\"text-align: right;\">\n",
       "      <th></th>\n",
       "      <th>PassengerId</th>\n",
       "      <th>Survived</th>\n",
       "      <th>Pclass</th>\n",
       "      <th>Name</th>\n",
       "      <th>Sex</th>\n",
       "      <th>SibSp</th>\n",
       "      <th>Parch</th>\n",
       "      <th>Ticket</th>\n",
       "      <th>Fare</th>\n",
       "      <th>Cabin</th>\n",
       "      <th>...</th>\n",
       "      <th>Age_61</th>\n",
       "      <th>Age_62</th>\n",
       "      <th>Age_63</th>\n",
       "      <th>Age_64</th>\n",
       "      <th>Age_65</th>\n",
       "      <th>Age_66</th>\n",
       "      <th>Age_70</th>\n",
       "      <th>Age_71</th>\n",
       "      <th>Age_74</th>\n",
       "      <th>Age_80</th>\n",
       "    </tr>\n",
       "  </thead>\n",
       "  <tbody>\n",
       "    <tr>\n",
       "      <th>0</th>\n",
       "      <td>1</td>\n",
       "      <td>0</td>\n",
       "      <td>3</td>\n",
       "      <td>108</td>\n",
       "      <td>1</td>\n",
       "      <td>1</td>\n",
       "      <td>0</td>\n",
       "      <td>523</td>\n",
       "      <td>7</td>\n",
       "      <td>147</td>\n",
       "      <td>...</td>\n",
       "      <td>0</td>\n",
       "      <td>0</td>\n",
       "      <td>0</td>\n",
       "      <td>0</td>\n",
       "      <td>0</td>\n",
       "      <td>0</td>\n",
       "      <td>0</td>\n",
       "      <td>0</td>\n",
       "      <td>0</td>\n",
       "      <td>0</td>\n",
       "    </tr>\n",
       "    <tr>\n",
       "      <th>1</th>\n",
       "      <td>2</td>\n",
       "      <td>1</td>\n",
       "      <td>1</td>\n",
       "      <td>190</td>\n",
       "      <td>0</td>\n",
       "      <td>1</td>\n",
       "      <td>0</td>\n",
       "      <td>596</td>\n",
       "      <td>71</td>\n",
       "      <td>81</td>\n",
       "      <td>...</td>\n",
       "      <td>0</td>\n",
       "      <td>0</td>\n",
       "      <td>0</td>\n",
       "      <td>0</td>\n",
       "      <td>0</td>\n",
       "      <td>0</td>\n",
       "      <td>0</td>\n",
       "      <td>0</td>\n",
       "      <td>0</td>\n",
       "      <td>0</td>\n",
       "    </tr>\n",
       "    <tr>\n",
       "      <th>2</th>\n",
       "      <td>3</td>\n",
       "      <td>1</td>\n",
       "      <td>3</td>\n",
       "      <td>353</td>\n",
       "      <td>0</td>\n",
       "      <td>0</td>\n",
       "      <td>0</td>\n",
       "      <td>669</td>\n",
       "      <td>7</td>\n",
       "      <td>147</td>\n",
       "      <td>...</td>\n",
       "      <td>0</td>\n",
       "      <td>0</td>\n",
       "      <td>0</td>\n",
       "      <td>0</td>\n",
       "      <td>0</td>\n",
       "      <td>0</td>\n",
       "      <td>0</td>\n",
       "      <td>0</td>\n",
       "      <td>0</td>\n",
       "      <td>0</td>\n",
       "    </tr>\n",
       "    <tr>\n",
       "      <th>3</th>\n",
       "      <td>4</td>\n",
       "      <td>1</td>\n",
       "      <td>1</td>\n",
       "      <td>272</td>\n",
       "      <td>0</td>\n",
       "      <td>1</td>\n",
       "      <td>0</td>\n",
       "      <td>49</td>\n",
       "      <td>53</td>\n",
       "      <td>55</td>\n",
       "      <td>...</td>\n",
       "      <td>0</td>\n",
       "      <td>0</td>\n",
       "      <td>0</td>\n",
       "      <td>0</td>\n",
       "      <td>0</td>\n",
       "      <td>0</td>\n",
       "      <td>0</td>\n",
       "      <td>0</td>\n",
       "      <td>0</td>\n",
       "      <td>0</td>\n",
       "    </tr>\n",
       "    <tr>\n",
       "      <th>4</th>\n",
       "      <td>5</td>\n",
       "      <td>0</td>\n",
       "      <td>3</td>\n",
       "      <td>15</td>\n",
       "      <td>1</td>\n",
       "      <td>0</td>\n",
       "      <td>0</td>\n",
       "      <td>472</td>\n",
       "      <td>8</td>\n",
       "      <td>147</td>\n",
       "      <td>...</td>\n",
       "      <td>0</td>\n",
       "      <td>0</td>\n",
       "      <td>0</td>\n",
       "      <td>0</td>\n",
       "      <td>0</td>\n",
       "      <td>0</td>\n",
       "      <td>0</td>\n",
       "      <td>0</td>\n",
       "      <td>0</td>\n",
       "      <td>0</td>\n",
       "    </tr>\n",
       "    <tr>\n",
       "      <th>...</th>\n",
       "      <td>...</td>\n",
       "      <td>...</td>\n",
       "      <td>...</td>\n",
       "      <td>...</td>\n",
       "      <td>...</td>\n",
       "      <td>...</td>\n",
       "      <td>...</td>\n",
       "      <td>...</td>\n",
       "      <td>...</td>\n",
       "      <td>...</td>\n",
       "      <td>...</td>\n",
       "      <td>...</td>\n",
       "      <td>...</td>\n",
       "      <td>...</td>\n",
       "      <td>...</td>\n",
       "      <td>...</td>\n",
       "      <td>...</td>\n",
       "      <td>...</td>\n",
       "      <td>...</td>\n",
       "      <td>...</td>\n",
       "      <td>...</td>\n",
       "    </tr>\n",
       "    <tr>\n",
       "      <th>886</th>\n",
       "      <td>887</td>\n",
       "      <td>0</td>\n",
       "      <td>2</td>\n",
       "      <td>548</td>\n",
       "      <td>1</td>\n",
       "      <td>0</td>\n",
       "      <td>0</td>\n",
       "      <td>101</td>\n",
       "      <td>13</td>\n",
       "      <td>147</td>\n",
       "      <td>...</td>\n",
       "      <td>0</td>\n",
       "      <td>0</td>\n",
       "      <td>0</td>\n",
       "      <td>0</td>\n",
       "      <td>0</td>\n",
       "      <td>0</td>\n",
       "      <td>0</td>\n",
       "      <td>0</td>\n",
       "      <td>0</td>\n",
       "      <td>0</td>\n",
       "    </tr>\n",
       "    <tr>\n",
       "      <th>887</th>\n",
       "      <td>888</td>\n",
       "      <td>1</td>\n",
       "      <td>1</td>\n",
       "      <td>303</td>\n",
       "      <td>0</td>\n",
       "      <td>0</td>\n",
       "      <td>0</td>\n",
       "      <td>14</td>\n",
       "      <td>30</td>\n",
       "      <td>30</td>\n",
       "      <td>...</td>\n",
       "      <td>0</td>\n",
       "      <td>0</td>\n",
       "      <td>0</td>\n",
       "      <td>0</td>\n",
       "      <td>0</td>\n",
       "      <td>0</td>\n",
       "      <td>0</td>\n",
       "      <td>0</td>\n",
       "      <td>0</td>\n",
       "      <td>0</td>\n",
       "    </tr>\n",
       "    <tr>\n",
       "      <th>888</th>\n",
       "      <td>889</td>\n",
       "      <td>0</td>\n",
       "      <td>3</td>\n",
       "      <td>413</td>\n",
       "      <td>0</td>\n",
       "      <td>1</td>\n",
       "      <td>2</td>\n",
       "      <td>675</td>\n",
       "      <td>23</td>\n",
       "      <td>147</td>\n",
       "      <td>...</td>\n",
       "      <td>0</td>\n",
       "      <td>0</td>\n",
       "      <td>0</td>\n",
       "      <td>0</td>\n",
       "      <td>0</td>\n",
       "      <td>0</td>\n",
       "      <td>0</td>\n",
       "      <td>0</td>\n",
       "      <td>0</td>\n",
       "      <td>0</td>\n",
       "    </tr>\n",
       "    <tr>\n",
       "      <th>889</th>\n",
       "      <td>890</td>\n",
       "      <td>1</td>\n",
       "      <td>1</td>\n",
       "      <td>81</td>\n",
       "      <td>1</td>\n",
       "      <td>0</td>\n",
       "      <td>0</td>\n",
       "      <td>8</td>\n",
       "      <td>30</td>\n",
       "      <td>60</td>\n",
       "      <td>...</td>\n",
       "      <td>0</td>\n",
       "      <td>0</td>\n",
       "      <td>0</td>\n",
       "      <td>0</td>\n",
       "      <td>0</td>\n",
       "      <td>0</td>\n",
       "      <td>0</td>\n",
       "      <td>0</td>\n",
       "      <td>0</td>\n",
       "      <td>0</td>\n",
       "    </tr>\n",
       "    <tr>\n",
       "      <th>890</th>\n",
       "      <td>891</td>\n",
       "      <td>0</td>\n",
       "      <td>3</td>\n",
       "      <td>220</td>\n",
       "      <td>1</td>\n",
       "      <td>0</td>\n",
       "      <td>0</td>\n",
       "      <td>466</td>\n",
       "      <td>7</td>\n",
       "      <td>147</td>\n",
       "      <td>...</td>\n",
       "      <td>0</td>\n",
       "      <td>0</td>\n",
       "      <td>0</td>\n",
       "      <td>0</td>\n",
       "      <td>0</td>\n",
       "      <td>0</td>\n",
       "      <td>0</td>\n",
       "      <td>0</td>\n",
       "      <td>0</td>\n",
       "      <td>0</td>\n",
       "    </tr>\n",
       "  </tbody>\n",
       "</table>\n",
       "<p>891 rows × 82 columns</p>\n",
       "</div>"
      ],
      "text/plain": [
       "     PassengerId  Survived  Pclass  Name  Sex  SibSp  Parch  Ticket  Fare  \\\n",
       "0              1         0       3   108    1      1      0     523     7   \n",
       "1              2         1       1   190    0      1      0     596    71   \n",
       "2              3         1       3   353    0      0      0     669     7   \n",
       "3              4         1       1   272    0      1      0      49    53   \n",
       "4              5         0       3    15    1      0      0     472     8   \n",
       "..           ...       ...     ...   ...  ...    ...    ...     ...   ...   \n",
       "886          887         0       2   548    1      0      0     101    13   \n",
       "887          888         1       1   303    0      0      0      14    30   \n",
       "888          889         0       3   413    0      1      2     675    23   \n",
       "889          890         1       1    81    1      0      0       8    30   \n",
       "890          891         0       3   220    1      0      0     466     7   \n",
       "\n",
       "     Cabin  ...  Age_61  Age_62  Age_63  Age_64  Age_65  Age_66  Age_70  \\\n",
       "0      147  ...       0       0       0       0       0       0       0   \n",
       "1       81  ...       0       0       0       0       0       0       0   \n",
       "2      147  ...       0       0       0       0       0       0       0   \n",
       "3       55  ...       0       0       0       0       0       0       0   \n",
       "4      147  ...       0       0       0       0       0       0       0   \n",
       "..     ...  ...     ...     ...     ...     ...     ...     ...     ...   \n",
       "886    147  ...       0       0       0       0       0       0       0   \n",
       "887     30  ...       0       0       0       0       0       0       0   \n",
       "888    147  ...       0       0       0       0       0       0       0   \n",
       "889     60  ...       0       0       0       0       0       0       0   \n",
       "890    147  ...       0       0       0       0       0       0       0   \n",
       "\n",
       "     Age_71  Age_74  Age_80  \n",
       "0         0       0       0  \n",
       "1         0       0       0  \n",
       "2         0       0       0  \n",
       "3         0       0       0  \n",
       "4         0       0       0  \n",
       "..      ...     ...     ...  \n",
       "886       0       0       0  \n",
       "887       0       0       0  \n",
       "888       0       0       0  \n",
       "889       0       0       0  \n",
       "890       0       0       0  \n",
       "\n",
       "[891 rows x 82 columns]"
      ]
     },
     "execution_count": 50,
     "metadata": {},
     "output_type": "execute_result"
    }
   ],
   "source": [
    "encodedqilaman.astype(int) # bu yerda intga o'zgartirdim"
   ]
  },
  {
   "cell_type": "code",
   "execution_count": 51,
   "metadata": {},
   "outputs": [
    {
     "name": "stdout",
     "output_type": "stream",
     "text": [
      "<class 'pandas.core.frame.DataFrame'>\n",
      "RangeIndex: 891 entries, 0 to 890\n",
      "Data columns (total 82 columns):\n",
      " #   Column       Non-Null Count  Dtype\n",
      "---  ------       --------------  -----\n",
      " 0   PassengerId  891 non-null    int64\n",
      " 1   Survived     891 non-null    int64\n",
      " 2   Pclass       891 non-null    int64\n",
      " 3   Name         891 non-null    int64\n",
      " 4   Sex          891 non-null    int64\n",
      " 5   SibSp        891 non-null    int64\n",
      " 6   Parch        891 non-null    int64\n",
      " 7   Ticket       891 non-null    int64\n",
      " 8   Fare         891 non-null    int64\n",
      " 9   Cabin        891 non-null    int64\n",
      " 10  Embarked     891 non-null    int64\n",
      " 11  Age_0        891 non-null    bool \n",
      " 12  Age_1        891 non-null    bool \n",
      " 13  Age_2        891 non-null    bool \n",
      " 14  Age_3        891 non-null    bool \n",
      " 15  Age_4        891 non-null    bool \n",
      " 16  Age_5        891 non-null    bool \n",
      " 17  Age_6        891 non-null    bool \n",
      " 18  Age_7        891 non-null    bool \n",
      " 19  Age_8        891 non-null    bool \n",
      " 20  Age_9        891 non-null    bool \n",
      " 21  Age_10       891 non-null    bool \n",
      " 22  Age_11       891 non-null    bool \n",
      " 23  Age_12       891 non-null    bool \n",
      " 24  Age_13       891 non-null    bool \n",
      " 25  Age_14       891 non-null    bool \n",
      " 26  Age_15       891 non-null    bool \n",
      " 27  Age_16       891 non-null    bool \n",
      " 28  Age_17       891 non-null    bool \n",
      " 29  Age_18       891 non-null    bool \n",
      " 30  Age_19       891 non-null    bool \n",
      " 31  Age_20       891 non-null    bool \n",
      " 32  Age_21       891 non-null    bool \n",
      " 33  Age_22       891 non-null    bool \n",
      " 34  Age_23       891 non-null    bool \n",
      " 35  Age_24       891 non-null    bool \n",
      " 36  Age_25       891 non-null    bool \n",
      " 37  Age_26       891 non-null    bool \n",
      " 38  Age_27       891 non-null    bool \n",
      " 39  Age_28       891 non-null    bool \n",
      " 40  Age_29       891 non-null    bool \n",
      " 41  Age_30       891 non-null    bool \n",
      " 42  Age_31       891 non-null    bool \n",
      " 43  Age_32       891 non-null    bool \n",
      " 44  Age_33       891 non-null    bool \n",
      " 45  Age_34       891 non-null    bool \n",
      " 46  Age_35       891 non-null    bool \n",
      " 47  Age_36       891 non-null    bool \n",
      " 48  Age_37       891 non-null    bool \n",
      " 49  Age_38       891 non-null    bool \n",
      " 50  Age_39       891 non-null    bool \n",
      " 51  Age_40       891 non-null    bool \n",
      " 52  Age_41       891 non-null    bool \n",
      " 53  Age_42       891 non-null    bool \n",
      " 54  Age_43       891 non-null    bool \n",
      " 55  Age_44       891 non-null    bool \n",
      " 56  Age_45       891 non-null    bool \n",
      " 57  Age_46       891 non-null    bool \n",
      " 58  Age_47       891 non-null    bool \n",
      " 59  Age_48       891 non-null    bool \n",
      " 60  Age_49       891 non-null    bool \n",
      " 61  Age_50       891 non-null    bool \n",
      " 62  Age_51       891 non-null    bool \n",
      " 63  Age_52       891 non-null    bool \n",
      " 64  Age_53       891 non-null    bool \n",
      " 65  Age_54       891 non-null    bool \n",
      " 66  Age_55       891 non-null    bool \n",
      " 67  Age_56       891 non-null    bool \n",
      " 68  Age_57       891 non-null    bool \n",
      " 69  Age_58       891 non-null    bool \n",
      " 70  Age_59       891 non-null    bool \n",
      " 71  Age_60       891 non-null    bool \n",
      " 72  Age_61       891 non-null    bool \n",
      " 73  Age_62       891 non-null    bool \n",
      " 74  Age_63       891 non-null    bool \n",
      " 75  Age_64       891 non-null    bool \n",
      " 76  Age_65       891 non-null    bool \n",
      " 77  Age_66       891 non-null    bool \n",
      " 78  Age_70       891 non-null    bool \n",
      " 79  Age_71       891 non-null    bool \n",
      " 80  Age_74       891 non-null    bool \n",
      " 81  Age_80       891 non-null    bool \n",
      "dtypes: bool(71), int64(11)\n",
      "memory usage: 138.5 KB\n"
     ]
    }
   ],
   "source": [
    "encodedqilaman.info()"
   ]
  },
  {
   "cell_type": "code",
   "execution_count": 43,
   "metadata": {},
   "outputs": [
    {
     "name": "stdout",
     "output_type": "stream",
     "text": [
      "<class 'pandas.core.frame.DataFrame'>\n",
      "RangeIndex: 891 entries, 0 to 890\n",
      "Data columns (total 12 columns):\n",
      " #   Column       Non-Null Count  Dtype\n",
      "---  ------       --------------  -----\n",
      " 0   PassengerId  891 non-null    int64\n",
      " 1   Survived     891 non-null    int64\n",
      " 2   Pclass       891 non-null    int64\n",
      " 3   Name         891 non-null    int64\n",
      " 4   Sex          891 non-null    int64\n",
      " 5   Age          891 non-null    int64\n",
      " 6   SibSp        891 non-null    int64\n",
      " 7   Parch        891 non-null    int64\n",
      " 8   Ticket       891 non-null    int64\n",
      " 9   Fare         891 non-null    int64\n",
      " 10  Cabin        891 non-null    int64\n",
      " 11  Embarked     891 non-null    int64\n",
      "dtypes: int64(12)\n",
      "memory usage: 83.7 KB\n"
     ]
    }
   ],
   "source": [
    "df.info()"
   ]
  },
  {
   "cell_type": "code",
   "execution_count": null,
   "metadata": {},
   "outputs": [],
   "source": []
  },
  {
   "cell_type": "code",
   "execution_count": null,
   "metadata": {},
   "outputs": [],
   "source": []
  },
  {
   "cell_type": "code",
   "execution_count": null,
   "metadata": {},
   "outputs": [],
   "source": []
  },
  {
   "cell_type": "code",
   "execution_count": null,
   "metadata": {},
   "outputs": [],
   "source": []
  },
  {
   "cell_type": "code",
   "execution_count": null,
   "metadata": {},
   "outputs": [],
   "source": []
  },
  {
   "cell_type": "code",
   "execution_count": null,
   "metadata": {},
   "outputs": [],
   "source": []
  },
  {
   "cell_type": "code",
   "execution_count": null,
   "metadata": {},
   "outputs": [],
   "source": []
  },
  {
   "cell_type": "code",
   "execution_count": null,
   "metadata": {},
   "outputs": [],
   "source": []
  },
  {
   "cell_type": "code",
   "execution_count": null,
   "metadata": {},
   "outputs": [],
   "source": []
  },
  {
   "cell_type": "code",
   "execution_count": null,
   "metadata": {},
   "outputs": [],
   "source": []
  },
  {
   "cell_type": "code",
   "execution_count": null,
   "metadata": {},
   "outputs": [],
   "source": []
  },
  {
   "cell_type": "code",
   "execution_count": null,
   "metadata": {},
   "outputs": [],
   "source": []
  },
  {
   "cell_type": "code",
   "execution_count": null,
   "metadata": {},
   "outputs": [],
   "source": []
  },
  {
   "cell_type": "code",
   "execution_count": null,
   "metadata": {},
   "outputs": [],
   "source": []
  },
  {
   "cell_type": "code",
   "execution_count": null,
   "metadata": {},
   "outputs": [],
   "source": []
  },
  {
   "cell_type": "code",
   "execution_count": null,
   "metadata": {},
   "outputs": [],
   "source": []
  }
 ],
 "metadata": {
  "kernelspec": {
   "display_name": "Python 3",
   "language": "python",
   "name": "python3"
  },
  "language_info": {
   "codemirror_mode": {
    "name": "ipython",
    "version": 3
   },
   "file_extension": ".py",
   "mimetype": "text/x-python",
   "name": "python",
   "nbconvert_exporter": "python",
   "pygments_lexer": "ipython3",
   "version": "3.12.3"
  }
 },
 "nbformat": 4,
 "nbformat_minor": 2
}
