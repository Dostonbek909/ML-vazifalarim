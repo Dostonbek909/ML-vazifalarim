{
 "cells": [
  {
   "cell_type": "code",
   "execution_count": 1,
   "metadata": {},
   "outputs": [],
   "source": [
    "# 5 dan 20gacha sonlarni yig'indisini toping\n",
    "# 5 dan 20gacha sonlarni ko'paytmasini  toping\n",
    "# 1 dan 100 gacha sonlarni 3 xam 5 ga xam bo'linadigan sonlarni  toping\n",
    "# 1 dan 100 gacha sonlarni 3 xam 5 ga xam bo'linadigan sonlarni yigindisini toping\n",
    "# 1 dan 10 gacha sonlarni xar birini kubini toping\n",
    "#Izoh yuqoridagilarni barchasida f-stringdan foydalaning"
   ]
  },
  {
   "cell_type": "code",
   "execution_count": 7,
   "metadata": {},
   "outputs": [
    {
     "name": "stdout",
     "output_type": "stream",
     "text": [
      "180\n"
     ]
    }
   ],
   "source": [
    "yig=0\n",
    "for d in range(5,20):\n",
    "    yig+=d\n",
    "print(yig)"
   ]
  },
  {
   "cell_type": "code",
   "execution_count": 9,
   "metadata": {},
   "outputs": [
    {
     "name": "stdout",
     "output_type": "stream",
     "text": [
      "5\n",
      "30\n",
      "210\n",
      "1680\n",
      "15120\n",
      "151200\n",
      "1663200\n",
      "19958400\n",
      "259459200\n",
      "3632428800\n",
      "54486432000\n",
      "871782912000\n",
      "14820309504000\n",
      "266765571072000\n",
      "5068545850368000\n",
      "5068545850368000\n"
     ]
    }
   ],
   "source": [
    "kop=1\n",
    "for d in range(5,20):\n",
    "    kop*=d\n",
    "    print(kop) #agar print for bilan bir chiziqda bo'lsa faqat ohirgi natija chiqariladi\n",
    "print(kop)"
   ]
  },
  {
   "cell_type": "code",
   "execution_count": 15,
   "metadata": {},
   "outputs": [
    {
     "name": "stdout",
     "output_type": "stream",
     "text": [
      "ushbu 15 soni 3 va 5 ga bo'linuvchi\n",
      "ushbu 30 soni 3 va 5 ga bo'linuvchi\n",
      "ushbu 45 soni 3 va 5 ga bo'linuvchi\n",
      "ushbu 60 soni 3 va 5 ga bo'linuvchi\n",
      "ushbu 75 soni 3 va 5 ga bo'linuvchi\n",
      "ushbu 90 soni 3 va 5 ga bo'linuvchi\n"
     ]
    }
   ],
   "source": [
    "for d in range(1,100):\n",
    "    if d%3==0 and d%5==0:\n",
    "        print(f\"ushbu {d} soni 3 va 5 ga bo'linuvchi\")\n",
    "    "
   ]
  },
  {
   "cell_type": "code",
   "execution_count": 25,
   "metadata": {},
   "outputs": [
    {
     "name": "stdout",
     "output_type": "stream",
     "text": [
      "3 va 5 ga bo'linadigan sonlarning yig'indisi 315 ga teng\n"
     ]
    }
   ],
   "source": [
    "e=0\n",
    "for d in range(1,100):\n",
    "    if d%3==0 and d%5==0: # yoki d%15==0 shunday yozish mumkin\n",
    "        e+=d   \n",
    "print(f\"3 va 5 ga bo'linadigan sonlarning yig'indisi {e} ga teng\")"
   ]
  },
  {
   "cell_type": "code",
   "execution_count": 31,
   "metadata": {},
   "outputs": [
    {
     "name": "stdout",
     "output_type": "stream",
     "text": [
      "1 sonining kubi 1 ga teng\n",
      "2 sonining kubi 8 ga teng\n",
      "3 sonining kubi 27 ga teng\n",
      "4 sonining kubi 64 ga teng\n",
      "5 sonining kubi 125 ga teng\n",
      "6 sonining kubi 216 ga teng\n",
      "7 sonining kubi 343 ga teng\n",
      "8 sonining kubi 512 ga teng\n",
      "9 sonining kubi 729 ga teng\n",
      "10 sonining kubi 1000 ga teng\n",
      "11 sonining kubi 1331 ga teng\n",
      "12 sonining kubi 1728 ga teng\n",
      "13 sonining kubi 2197 ga teng\n",
      "14 sonining kubi 2744 ga teng\n",
      "15 sonining kubi 3375 ga teng\n",
      "16 sonining kubi 4096 ga teng\n",
      "17 sonining kubi 4913 ga teng\n",
      "18 sonining kubi 5832 ga teng\n",
      "19 sonining kubi 6859 ga teng\n",
      "20 sonining kubi 8000 ga teng\n",
      "21 sonining kubi 9261 ga teng\n",
      "22 sonining kubi 10648 ga teng\n",
      "23 sonining kubi 12167 ga teng\n",
      "24 sonining kubi 13824 ga teng\n",
      "25 sonining kubi 15625 ga teng\n",
      "26 sonining kubi 17576 ga teng\n",
      "27 sonining kubi 19683 ga teng\n",
      "28 sonining kubi 21952 ga teng\n",
      "29 sonining kubi 24389 ga teng\n",
      "30 sonining kubi 27000 ga teng\n",
      "31 sonining kubi 29791 ga teng\n",
      "32 sonining kubi 32768 ga teng\n",
      "33 sonining kubi 35937 ga teng\n",
      "34 sonining kubi 39304 ga teng\n",
      "35 sonining kubi 42875 ga teng\n",
      "36 sonining kubi 46656 ga teng\n",
      "37 sonining kubi 50653 ga teng\n",
      "38 sonining kubi 54872 ga teng\n",
      "39 sonining kubi 59319 ga teng\n",
      "40 sonining kubi 64000 ga teng\n",
      "41 sonining kubi 68921 ga teng\n",
      "42 sonining kubi 74088 ga teng\n",
      "43 sonining kubi 79507 ga teng\n",
      "44 sonining kubi 85184 ga teng\n",
      "45 sonining kubi 91125 ga teng\n",
      "46 sonining kubi 97336 ga teng\n",
      "47 sonining kubi 103823 ga teng\n",
      "48 sonining kubi 110592 ga teng\n",
      "49 sonining kubi 117649 ga teng\n",
      "50 sonining kubi 125000 ga teng\n",
      "51 sonining kubi 132651 ga teng\n",
      "52 sonining kubi 140608 ga teng\n",
      "53 sonining kubi 148877 ga teng\n",
      "54 sonining kubi 157464 ga teng\n",
      "55 sonining kubi 166375 ga teng\n",
      "56 sonining kubi 175616 ga teng\n",
      "57 sonining kubi 185193 ga teng\n",
      "58 sonining kubi 195112 ga teng\n",
      "59 sonining kubi 205379 ga teng\n",
      "60 sonining kubi 216000 ga teng\n",
      "61 sonining kubi 226981 ga teng\n",
      "62 sonining kubi 238328 ga teng\n",
      "63 sonining kubi 250047 ga teng\n",
      "64 sonining kubi 262144 ga teng\n",
      "65 sonining kubi 274625 ga teng\n",
      "66 sonining kubi 287496 ga teng\n",
      "67 sonining kubi 300763 ga teng\n",
      "68 sonining kubi 314432 ga teng\n",
      "69 sonining kubi 328509 ga teng\n",
      "70 sonining kubi 343000 ga teng\n",
      "71 sonining kubi 357911 ga teng\n",
      "72 sonining kubi 373248 ga teng\n",
      "73 sonining kubi 389017 ga teng\n",
      "74 sonining kubi 405224 ga teng\n",
      "75 sonining kubi 421875 ga teng\n",
      "76 sonining kubi 438976 ga teng\n",
      "77 sonining kubi 456533 ga teng\n",
      "78 sonining kubi 474552 ga teng\n",
      "79 sonining kubi 493039 ga teng\n",
      "80 sonining kubi 512000 ga teng\n",
      "81 sonining kubi 531441 ga teng\n",
      "82 sonining kubi 551368 ga teng\n",
      "83 sonining kubi 571787 ga teng\n",
      "84 sonining kubi 592704 ga teng\n",
      "85 sonining kubi 614125 ga teng\n",
      "86 sonining kubi 636056 ga teng\n",
      "87 sonining kubi 658503 ga teng\n",
      "88 sonining kubi 681472 ga teng\n",
      "89 sonining kubi 704969 ga teng\n",
      "90 sonining kubi 729000 ga teng\n",
      "91 sonining kubi 753571 ga teng\n",
      "92 sonining kubi 778688 ga teng\n",
      "93 sonining kubi 804357 ga teng\n",
      "94 sonining kubi 830584 ga teng\n",
      "95 sonining kubi 857375 ga teng\n",
      "96 sonining kubi 884736 ga teng\n",
      "97 sonining kubi 912673 ga teng\n",
      "98 sonining kubi 941192 ga teng\n",
      "99 sonining kubi 970299 ga teng\n"
     ]
    }
   ],
   "source": [
    "for d in range(1,100):\n",
    "    kub=d**3\n",
    "    print(f\"{d} sonining kubi {kub} ga teng\")\n",
    "        "
   ]
  },
  {
   "cell_type": "code",
   "execution_count": null,
   "metadata": {},
   "outputs": [],
   "source": []
  },
  {
   "cell_type": "code",
   "execution_count": null,
   "metadata": {},
   "outputs": [],
   "source": []
  },
  {
   "cell_type": "code",
   "execution_count": null,
   "metadata": {},
   "outputs": [],
   "source": []
  },
  {
   "cell_type": "code",
   "execution_count": null,
   "metadata": {},
   "outputs": [],
   "source": []
  },
  {
   "cell_type": "code",
   "execution_count": null,
   "metadata": {},
   "outputs": [],
   "source": []
  },
  {
   "cell_type": "code",
   "execution_count": null,
   "metadata": {},
   "outputs": [],
   "source": []
  },
  {
   "cell_type": "code",
   "execution_count": null,
   "metadata": {},
   "outputs": [],
   "source": []
  },
  {
   "cell_type": "code",
   "execution_count": null,
   "metadata": {},
   "outputs": [],
   "source": []
  },
  {
   "cell_type": "code",
   "execution_count": null,
   "metadata": {},
   "outputs": [],
   "source": []
  },
  {
   "cell_type": "code",
   "execution_count": null,
   "metadata": {},
   "outputs": [],
   "source": []
  },
  {
   "cell_type": "code",
   "execution_count": null,
   "metadata": {},
   "outputs": [],
   "source": []
  },
  {
   "cell_type": "code",
   "execution_count": null,
   "metadata": {},
   "outputs": [],
   "source": []
  },
  {
   "cell_type": "code",
   "execution_count": null,
   "metadata": {},
   "outputs": [],
   "source": []
  },
  {
   "cell_type": "code",
   "execution_count": null,
   "metadata": {},
   "outputs": [],
   "source": []
  },
  {
   "cell_type": "code",
   "execution_count": null,
   "metadata": {},
   "outputs": [],
   "source": []
  },
  {
   "cell_type": "code",
   "execution_count": null,
   "metadata": {},
   "outputs": [],
   "source": []
  },
  {
   "cell_type": "code",
   "execution_count": null,
   "metadata": {},
   "outputs": [],
   "source": []
  },
  {
   "cell_type": "code",
   "execution_count": null,
   "metadata": {},
   "outputs": [],
   "source": []
  },
  {
   "cell_type": "code",
   "execution_count": null,
   "metadata": {},
   "outputs": [],
   "source": []
  },
  {
   "cell_type": "code",
   "execution_count": null,
   "metadata": {},
   "outputs": [],
   "source": []
  },
  {
   "cell_type": "code",
   "execution_count": null,
   "metadata": {},
   "outputs": [],
   "source": []
  },
  {
   "cell_type": "code",
   "execution_count": null,
   "metadata": {},
   "outputs": [],
   "source": [
    "  "
   ]
  },
  {
   "cell_type": "code",
   "execution_count": null,
   "metadata": {},
   "outputs": [],
   "source": []
  },
  {
   "cell_type": "code",
   "execution_count": null,
   "metadata": {},
   "outputs": [],
   "source": []
  },
  {
   "cell_type": "code",
   "execution_count": null,
   "metadata": {},
   "outputs": [],
   "source": []
  }
 ],
 "metadata": {
  "kernelspec": {
   "display_name": "Python 3",
   "language": "python",
   "name": "python3"
  },
  "language_info": {
   "codemirror_mode": {
    "name": "ipython",
    "version": 3
   },
   "file_extension": ".py",
   "mimetype": "text/x-python",
   "name": "python",
   "nbconvert_exporter": "python",
   "pygments_lexer": "ipython3",
   "version": "3.12.3"
  }
 },
 "nbformat": 4,
 "nbformat_minor": 2
}
