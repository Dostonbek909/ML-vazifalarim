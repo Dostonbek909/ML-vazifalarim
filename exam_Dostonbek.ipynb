{
 "cells": [
  {
   "cell_type": "markdown",
   "metadata": {},
   "source": [
    "Imtihon darsi\n"
   ]
  },
  {
   "cell_type": "code",
   "execution_count": 1,
   "metadata": {},
   "outputs": [],
   "source": [
    "import pandas as pd\n",
    "import numpy as np\n",
    "from sklearn.model_selection import train_test_split, KFold, cross_val_score\n",
    "from sklearn.linear_model import LinearRegression\n",
    "from sklearn.metrics import mean_squared_error, mean_absolute_error, r2_score\n",
    "from sklearn.preprocessing import StandardScaler, OneHotEncoder,LabelEncoder\n",
    " # bu yerda ushbu loyihani bajarish uchun kerakli kutubhonalarni o'rnatib oldim"
   ]
  },
  {
   "cell_type": "code",
   "execution_count": 2,
   "metadata": {},
   "outputs": [
    {
     "name": "stderr",
     "output_type": "stream",
     "text": [
      "/var/folders/30/rhygxw913tvdqrfklnsl3gx00000gn/T/ipykernel_29846/3364418766.py:1: DtypeWarning: Columns (16) have mixed types. Specify dtype option on import or set low_memory=False.\n",
      "  df=pd.read_csv('corporate_stress_dataset.csv')\n"
     ]
    }
   ],
   "source": [
    "df=pd.read_csv('corporate_stress_dataset.csv')\n",
    "# loyihamiz uchun kerakli datasetni o'rnatib oldim"
   ]
  },
  {
   "cell_type": "code",
   "execution_count": 3,
   "metadata": {},
   "outputs": [
    {
     "data": {
      "text/html": [
       "<div>\n",
       "<style scoped>\n",
       "    .dataframe tbody tr th:only-of-type {\n",
       "        vertical-align: middle;\n",
       "    }\n",
       "\n",
       "    .dataframe tbody tr th {\n",
       "        vertical-align: top;\n",
       "    }\n",
       "\n",
       "    .dataframe thead th {\n",
       "        text-align: right;\n",
       "    }\n",
       "</style>\n",
       "<table border=\"1\" class=\"dataframe\">\n",
       "  <thead>\n",
       "    <tr style=\"text-align: right;\">\n",
       "      <th></th>\n",
       "      <th>ID</th>\n",
       "      <th>Age</th>\n",
       "      <th>Gender</th>\n",
       "      <th>Marital_Status</th>\n",
       "      <th>Job_Role</th>\n",
       "      <th>Experience_Years</th>\n",
       "      <th>Monthly_Salary_INR</th>\n",
       "      <th>Working_Hours_per_Week</th>\n",
       "      <th>Commute_Time_Hours</th>\n",
       "      <th>Remote_Work</th>\n",
       "      <th>...</th>\n",
       "      <th>Work_Life_Balance</th>\n",
       "      <th>Family_Support_Level</th>\n",
       "      <th>Job_Satisfaction</th>\n",
       "      <th>Performance_Rating</th>\n",
       "      <th>Team_Size</th>\n",
       "      <th>Training_Opportunities</th>\n",
       "      <th>Gender_Bias_Experienced</th>\n",
       "      <th>Discrimination_Experienced</th>\n",
       "      <th>Burnout_Symptoms</th>\n",
       "      <th>Location</th>\n",
       "    </tr>\n",
       "  </thead>\n",
       "  <tbody>\n",
       "    <tr>\n",
       "      <th>0</th>\n",
       "      <td>1</td>\n",
       "      <td>56</td>\n",
       "      <td>Non-Binary</td>\n",
       "      <td>Widowed</td>\n",
       "      <td>Developer</td>\n",
       "      <td>5</td>\n",
       "      <td>102703.08</td>\n",
       "      <td>44</td>\n",
       "      <td>1.72</td>\n",
       "      <td>True</td>\n",
       "      <td>...</td>\n",
       "      <td>9.0</td>\n",
       "      <td>2</td>\n",
       "      <td>5</td>\n",
       "      <td>10.0</td>\n",
       "      <td>38</td>\n",
       "      <td>False</td>\n",
       "      <td>True</td>\n",
       "      <td>True</td>\n",
       "      <td>No</td>\n",
       "      <td>Tier-3</td>\n",
       "    </tr>\n",
       "    <tr>\n",
       "      <th>1</th>\n",
       "      <td>2</td>\n",
       "      <td>46</td>\n",
       "      <td>Female</td>\n",
       "      <td>Single</td>\n",
       "      <td>Analyst</td>\n",
       "      <td>20</td>\n",
       "      <td>165583.91</td>\n",
       "      <td>54</td>\n",
       "      <td>0.62</td>\n",
       "      <td>True</td>\n",
       "      <td>...</td>\n",
       "      <td>9.0</td>\n",
       "      <td>1</td>\n",
       "      <td>10</td>\n",
       "      <td>9.0</td>\n",
       "      <td>72</td>\n",
       "      <td>True</td>\n",
       "      <td>True</td>\n",
       "      <td>True</td>\n",
       "      <td>No</td>\n",
       "      <td>Tier-3</td>\n",
       "    </tr>\n",
       "    <tr>\n",
       "      <th>2</th>\n",
       "      <td>3</td>\n",
       "      <td>32</td>\n",
       "      <td>Female</td>\n",
       "      <td>Single</td>\n",
       "      <td>Developer</td>\n",
       "      <td>10</td>\n",
       "      <td>38005.39</td>\n",
       "      <td>81</td>\n",
       "      <td>1.22</td>\n",
       "      <td>False</td>\n",
       "      <td>...</td>\n",
       "      <td>6.0</td>\n",
       "      <td>1</td>\n",
       "      <td>1</td>\n",
       "      <td>1.0</td>\n",
       "      <td>67</td>\n",
       "      <td>False</td>\n",
       "      <td>False</td>\n",
       "      <td>False</td>\n",
       "      <td>Yes</td>\n",
       "      <td>Metro</td>\n",
       "    </tr>\n",
       "    <tr>\n",
       "      <th>3</th>\n",
       "      <td>4</td>\n",
       "      <td>60</td>\n",
       "      <td>Female</td>\n",
       "      <td>Divorced</td>\n",
       "      <td>Analyst</td>\n",
       "      <td>26</td>\n",
       "      <td>51127.36</td>\n",
       "      <td>79</td>\n",
       "      <td>2.03</td>\n",
       "      <td>False</td>\n",
       "      <td>...</td>\n",
       "      <td>8.0</td>\n",
       "      <td>10</td>\n",
       "      <td>5</td>\n",
       "      <td>10.0</td>\n",
       "      <td>98</td>\n",
       "      <td>True</td>\n",
       "      <td>True</td>\n",
       "      <td>False</td>\n",
       "      <td>Yes</td>\n",
       "      <td>Metro</td>\n",
       "    </tr>\n",
       "  </tbody>\n",
       "</table>\n",
       "<p>4 rows × 30 columns</p>\n",
       "</div>"
      ],
      "text/plain": [
       "   ID  Age      Gender Marital_Status   Job_Role  Experience_Years  \\\n",
       "0   1   56  Non-Binary        Widowed  Developer                 5   \n",
       "1   2   46      Female         Single    Analyst                20   \n",
       "2   3   32      Female         Single  Developer                10   \n",
       "3   4   60      Female       Divorced    Analyst                26   \n",
       "\n",
       "   Monthly_Salary_INR  Working_Hours_per_Week  Commute_Time_Hours  \\\n",
       "0           102703.08                      44                1.72   \n",
       "1           165583.91                      54                0.62   \n",
       "2            38005.39                      81                1.22   \n",
       "3            51127.36                      79                2.03   \n",
       "\n",
       "   Remote_Work  ...  Work_Life_Balance Family_Support_Level Job_Satisfaction  \\\n",
       "0         True  ...                9.0                    2                5   \n",
       "1         True  ...                9.0                    1               10   \n",
       "2        False  ...                6.0                    1                1   \n",
       "3        False  ...                8.0                   10                5   \n",
       "\n",
       "  Performance_Rating  Team_Size  Training_Opportunities  \\\n",
       "0               10.0         38                   False   \n",
       "1                9.0         72                    True   \n",
       "2                1.0         67                   False   \n",
       "3               10.0         98                    True   \n",
       "\n",
       "  Gender_Bias_Experienced  Discrimination_Experienced  Burnout_Symptoms  \\\n",
       "0                    True                        True                No   \n",
       "1                    True                        True                No   \n",
       "2                   False                       False               Yes   \n",
       "3                    True                       False               Yes   \n",
       "\n",
       "   Location  \n",
       "0    Tier-3  \n",
       "1    Tier-3  \n",
       "2     Metro  \n",
       "3     Metro  \n",
       "\n",
       "[4 rows x 30 columns]"
      ]
     },
     "execution_count": 3,
     "metadata": {},
     "output_type": "execute_result"
    }
   ],
   "source": []
  },
  {
   "cell_type": "code",
   "execution_count": null,
   "metadata": {},
   "outputs": [],
   "source": [
    "df.head(4)\n",
    "# datani umumiy ko'rinishi haqida bilib oldim"
   ]
  },
  {
   "cell_type": "code",
   "execution_count": 5,
   "metadata": {},
   "outputs": [
    {
     "name": "stdout",
     "output_type": "stream",
     "text": [
      "<class 'pandas.core.frame.DataFrame'>\n",
      "RangeIndex: 50000 entries, 0 to 49999\n",
      "Data columns (total 30 columns):\n",
      " #   Column                            Non-Null Count  Dtype  \n",
      "---  ------                            --------------  -----  \n",
      " 0   ID                                50000 non-null  int64  \n",
      " 1   Age                               50000 non-null  int64  \n",
      " 2   Gender                            50000 non-null  object \n",
      " 3   Marital_Status                    50000 non-null  object \n",
      " 4   Job_Role                          49999 non-null  object \n",
      " 5   Experience_Years                  50000 non-null  int64  \n",
      " 6   Monthly_Salary_INR                50000 non-null  float64\n",
      " 7   Working_Hours_per_Week            50000 non-null  int64  \n",
      " 8   Commute_Time_Hours                49999 non-null  float64\n",
      " 9   Remote_Work                       50000 non-null  bool   \n",
      " 10  Stress_Level                      49999 non-null  float64\n",
      " 11  Health_Issues                     37459 non-null  object \n",
      " 12  Company_Size                      50000 non-null  object \n",
      " 13  Department                        50000 non-null  object \n",
      " 14  Sleep_Hours                       50000 non-null  float64\n",
      " 15  Physical_Activity_Hours_per_Week  50000 non-null  float64\n",
      " 16  Mental_Health_Leave_Taken         49999 non-null  object \n",
      " 17  Manager_Support_Level             50000 non-null  int64  \n",
      " 18  Work_Pressure_Level               49999 non-null  float64\n",
      " 19  Annual_Leaves_Taken               49999 non-null  float64\n",
      " 20  Work_Life_Balance                 49998 non-null  float64\n",
      " 21  Family_Support_Level              50000 non-null  int64  \n",
      " 22  Job_Satisfaction                  50000 non-null  int64  \n",
      " 23  Performance_Rating                49999 non-null  float64\n",
      " 24  Team_Size                         50000 non-null  int64  \n",
      " 25  Training_Opportunities            50000 non-null  bool   \n",
      " 26  Gender_Bias_Experienced           50000 non-null  bool   \n",
      " 27  Discrimination_Experienced        50000 non-null  bool   \n",
      " 28  Burnout_Symptoms                  50000 non-null  object \n",
      " 29  Location                          50000 non-null  object \n",
      "dtypes: bool(4), float64(9), int64(8), object(9)\n",
      "memory usage: 10.1+ MB\n"
     ]
    }
   ],
   "source": [
    "df.info()\n",
    "# data ichidagi ustunlar haqida umumiy ma'lumot oldim"
   ]
  },
  {
   "cell_type": "code",
   "execution_count": 4,
   "metadata": {},
   "outputs": [
    {
     "data": {
      "text/plain": [
       "ID                                      0\n",
       "Age                                     0\n",
       "Gender                                  0\n",
       "Marital_Status                          0\n",
       "Job_Role                                1\n",
       "Experience_Years                        0\n",
       "Monthly_Salary_INR                      0\n",
       "Working_Hours_per_Week                  0\n",
       "Commute_Time_Hours                      1\n",
       "Remote_Work                             0\n",
       "Stress_Level                            1\n",
       "Health_Issues                       12541\n",
       "Company_Size                            0\n",
       "Department                              0\n",
       "Sleep_Hours                             0\n",
       "Physical_Activity_Hours_per_Week        0\n",
       "Mental_Health_Leave_Taken               1\n",
       "Manager_Support_Level                   0\n",
       "Work_Pressure_Level                     1\n",
       "Annual_Leaves_Taken                     1\n",
       "Work_Life_Balance                       2\n",
       "Family_Support_Level                    0\n",
       "Job_Satisfaction                        0\n",
       "Performance_Rating                      1\n",
       "Team_Size                               0\n",
       "Training_Opportunities                  0\n",
       "Gender_Bias_Experienced                 0\n",
       "Discrimination_Experienced              0\n",
       "Burnout_Symptoms                        0\n",
       "Location                                0\n",
       "dtype: int64"
      ]
     },
     "execution_count": 4,
     "metadata": {},
     "output_type": "execute_result"
    }
   ],
   "source": [
    "df.isnull().sum()\n",
    "# ustunlardagi yetishmayotgan qatorlar soni haqida bilib oldim"
   ]
  },
  {
   "cell_type": "code",
   "execution_count": 3,
   "metadata": {},
   "outputs": [
    {
     "name": "stderr",
     "output_type": "stream",
     "text": [
      "/var/folders/30/rhygxw913tvdqrfklnsl3gx00000gn/T/ipykernel_29846/3283679111.py:6: FutureWarning: A value is trying to be set on a copy of a DataFrame or Series through chained assignment using an inplace method.\n",
      "The behavior will change in pandas 3.0. This inplace method will never work because the intermediate object on which we are setting values always behaves as a copy.\n",
      "\n",
      "For example, when doing 'df[col].method(value, inplace=True)', try using 'df.method({col: value}, inplace=True)' or df[col] = df[col].method(value) instead, to perform the operation inplace on the original object.\n",
      "\n",
      "\n",
      "  df[ustun].fillna(df[ustun].mode()[0], inplace=True) # topilgan ustunlarni mode bilan to'ldiraman\n",
      "/var/folders/30/rhygxw913tvdqrfklnsl3gx00000gn/T/ipykernel_29846/3283679111.py:8: FutureWarning: A value is trying to be set on a copy of a DataFrame or Series through chained assignment using an inplace method.\n",
      "The behavior will change in pandas 3.0. This inplace method will never work because the intermediate object on which we are setting values always behaves as a copy.\n",
      "\n",
      "For example, when doing 'df[col].method(value, inplace=True)', try using 'df.method({col: value}, inplace=True)' or df[col] = df[col].method(value) instead, to perform the operation inplace on the original object.\n",
      "\n",
      "\n",
      "  df[ustun].fillna(df[ustun].mean(), inplace=True)\n"
     ]
    }
   ],
   "source": [
    "\n",
    "kamchilik = df.columns[df.isnull().sum()>0] # bu yerda matnli ustunlarni belgilab oldim\n",
    "\n",
    "\n",
    "for ustun in kamchilik: #bu yerda for loopdan foydalandim\n",
    "    if df[ustun].dtype == 'object': #  0 dan katta bo'lgan va object deb topilgan ustunlar bo'lsa olaman\n",
    "        df[ustun].fillna(df[ustun].mode()[0], inplace=True) # topilgan ustunlarni mode bilan to'ldiraman\n",
    "    else:  # aksincha bo'lsa (int yoki float) mean bilan to'ldiraman\n",
    "        df[ustun].fillna(df[ustun].mean(), inplace=True)\n"
   ]
  },
  {
   "cell_type": "code",
   "execution_count": 10,
   "metadata": {},
   "outputs": [
    {
     "name": "stdout",
     "output_type": "stream",
     "text": [
      "<class 'pandas.core.frame.DataFrame'>\n",
      "RangeIndex: 50000 entries, 0 to 49999\n",
      "Data columns (total 30 columns):\n",
      " #   Column                            Non-Null Count  Dtype  \n",
      "---  ------                            --------------  -----  \n",
      " 0   ID                                50000 non-null  int64  \n",
      " 1   Age                               50000 non-null  int64  \n",
      " 2   Gender                            50000 non-null  object \n",
      " 3   Marital_Status                    50000 non-null  object \n",
      " 4   Job_Role                          50000 non-null  object \n",
      " 5   Experience_Years                  50000 non-null  int64  \n",
      " 6   Monthly_Salary_INR                50000 non-null  float64\n",
      " 7   Working_Hours_per_Week            50000 non-null  int64  \n",
      " 8   Commute_Time_Hours                50000 non-null  float64\n",
      " 9   Remote_Work                       50000 non-null  bool   \n",
      " 10  Stress_Level                      50000 non-null  float64\n",
      " 11  Health_Issues                     50000 non-null  object \n",
      " 12  Company_Size                      50000 non-null  object \n",
      " 13  Department                        50000 non-null  object \n",
      " 14  Sleep_Hours                       50000 non-null  float64\n",
      " 15  Physical_Activity_Hours_per_Week  50000 non-null  float64\n",
      " 16  Mental_Health_Leave_Taken         50000 non-null  object \n",
      " 17  Manager_Support_Level             50000 non-null  int64  \n",
      " 18  Work_Pressure_Level               50000 non-null  float64\n",
      " 19  Annual_Leaves_Taken               50000 non-null  float64\n",
      " 20  Work_Life_Balance                 50000 non-null  float64\n",
      " 21  Family_Support_Level              50000 non-null  int64  \n",
      " 22  Job_Satisfaction                  50000 non-null  int64  \n",
      " 23  Performance_Rating                50000 non-null  float64\n",
      " 24  Team_Size                         50000 non-null  int64  \n",
      " 25  Training_Opportunities            50000 non-null  bool   \n",
      " 26  Gender_Bias_Experienced           50000 non-null  bool   \n",
      " 27  Discrimination_Experienced        50000 non-null  bool   \n",
      " 28  Burnout_Symptoms                  50000 non-null  object \n",
      " 29  Location                          50000 non-null  object \n",
      "dtypes: bool(4), float64(9), int64(8), object(9)\n",
      "memory usage: 10.1+ MB\n"
     ]
    }
   ],
   "source": [
    "df.info() # bu yerda tekshirib oldim"
   ]
  },
  {
   "cell_type": "code",
   "execution_count": 4,
   "metadata": {},
   "outputs": [
    {
     "data": {
      "text/plain": [
       "Mental_Health_Leave_Taken\n",
       "TRUE     16414\n",
       "FALSE    16352\n",
       "True      8660\n",
       "False     8572\n",
       "1            1\n",
       "0            1\n",
       "Name: count, dtype: int64"
      ]
     },
     "execution_count": 4,
     "metadata": {},
     "output_type": "execute_result"
    }
   ],
   "source": [
    "df['Mental_Health_Leave_Taken'].value_counts() # bu yerda matnli data ichida raqamli ham borligini bildim"
   ]
  },
  {
   "cell_type": "code",
   "execution_count": 4,
   "metadata": {},
   "outputs": [],
   "source": [
    "df['Mental_Health_Leave_Taken'] = df['Mental_Health_Leave_Taken'].replace({'1': True,'0': False}) # bu yerda sonli datani matnli qilib oldim"
   ]
  },
  {
   "cell_type": "code",
   "execution_count": 5,
   "metadata": {},
   "outputs": [
    {
     "data": {
      "text/plain": [
       "Mental_Health_Leave_Taken\n",
       "TRUE     16414\n",
       "FALSE    16352\n",
       "True      8661\n",
       "False     8573\n",
       "Name: count, dtype: int64"
      ]
     },
     "execution_count": 5,
     "metadata": {},
     "output_type": "execute_result"
    }
   ],
   "source": [
    "df['Mental_Health_Leave_Taken'].value_counts() # tekshirib oldim"
   ]
  },
  {
   "cell_type": "code",
   "execution_count": null,
   "metadata": {},
   "outputs": [
    {
     "name": "stdout",
     "output_type": "stream",
     "text": [
      "['Gender', 'Marital_Status', 'Job_Role', 'Health_Issues', 'Company_Size', 'Department', 'Mental_Health_Leave_Taken', 'Burnout_Symptoms', 'Location']\n",
      "['ID', 'Age', 'Experience_Years', 'Monthly_Salary_INR', 'Working_Hours_per_Week', 'Commute_Time_Hours', 'Stress_Level', 'Sleep_Hours', 'Physical_Activity_Hours_per_Week', 'Manager_Support_Level', 'Work_Pressure_Level', 'Annual_Leaves_Taken', 'Work_Life_Balance', 'Family_Support_Level', 'Job_Satisfaction', 'Performance_Rating', 'Team_Size']\n",
      "['Remote_Work', 'Training_Opportunities', 'Gender_Bias_Experienced', 'Discrimination_Experienced']\n"
     ]
    }
   ],
   "source": [
    "matnli=df.select_dtypes(include=['object','category']).columns.tolist()\n",
    "sonlilar=df.select_dtypes(include=['int64','float64']).columns.tolist()\n",
    "bol=df.select_dtypes(include=['bool']).columns.tolist()\n",
    "print(matnli)\n",
    "print(sonlilar)\n",
    "print(bol)\n",
    "# bu yerda data turlariga qarab ajratib oldim\n"
   ]
  },
  {
   "cell_type": "code",
   "execution_count": 30,
   "metadata": {},
   "outputs": [],
   "source": [
    "df[bol] = df[bol].replace({True:1 , False:0}) # bu yerda bool data turini intga o'zgartirib oldim"
   ]
  },
  {
   "cell_type": "code",
   "execution_count": 31,
   "metadata": {},
   "outputs": [
    {
     "name": "stdout",
     "output_type": "stream",
     "text": [
      "<class 'pandas.core.frame.DataFrame'>\n",
      "RangeIndex: 50000 entries, 0 to 49999\n",
      "Data columns (total 30 columns):\n",
      " #   Column                            Non-Null Count  Dtype  \n",
      "---  ------                            --------------  -----  \n",
      " 0   ID                                50000 non-null  int64  \n",
      " 1   Age                               50000 non-null  int64  \n",
      " 2   Gender                            50000 non-null  object \n",
      " 3   Marital_Status                    50000 non-null  object \n",
      " 4   Job_Role                          50000 non-null  object \n",
      " 5   Experience_Years                  50000 non-null  int64  \n",
      " 6   Monthly_Salary_INR                50000 non-null  float64\n",
      " 7   Working_Hours_per_Week            50000 non-null  int64  \n",
      " 8   Commute_Time_Hours                50000 non-null  float64\n",
      " 9   Remote_Work                       50000 non-null  int64  \n",
      " 10  Stress_Level                      50000 non-null  float64\n",
      " 11  Health_Issues                     50000 non-null  object \n",
      " 12  Company_Size                      50000 non-null  object \n",
      " 13  Department                        50000 non-null  object \n",
      " 14  Sleep_Hours                       50000 non-null  float64\n",
      " 15  Physical_Activity_Hours_per_Week  50000 non-null  float64\n",
      " 16  Mental_Health_Leave_Taken         50000 non-null  object \n",
      " 17  Manager_Support_Level             50000 non-null  int64  \n",
      " 18  Work_Pressure_Level               50000 non-null  float64\n",
      " 19  Annual_Leaves_Taken               50000 non-null  float64\n",
      " 20  Work_Life_Balance                 50000 non-null  float64\n",
      " 21  Family_Support_Level              50000 non-null  int64  \n",
      " 22  Job_Satisfaction                  50000 non-null  int64  \n",
      " 23  Performance_Rating                50000 non-null  float64\n",
      " 24  Team_Size                         50000 non-null  int64  \n",
      " 25  Training_Opportunities            50000 non-null  int64  \n",
      " 26  Gender_Bias_Experienced           50000 non-null  int64  \n",
      " 27  Discrimination_Experienced        50000 non-null  int64  \n",
      " 28  Burnout_Symptoms                  50000 non-null  object \n",
      " 29  Location                          50000 non-null  object \n",
      "dtypes: float64(9), int64(12), object(9)\n",
      "memory usage: 11.4+ MB\n"
     ]
    }
   ],
   "source": [
    "df.info()"
   ]
  },
  {
   "cell_type": "code",
   "execution_count": null,
   "metadata": {},
   "outputs": [],
   "source": [
    "df = pd.get_dummies(df, columns=['Marital_Status', 'Job_Role', 'Health_Issues', 'Company_Size', 'Department', 'Mental_Health_Leave_Taken', 'Burnout_Symptoms', 'Location'], drop_first=True)\n",
    "# bu yerda get dummies bilan matnlarni sonli qilib oldim, bu yerda alohida ustun qilib berdi"
   ]
  },
  {
   "cell_type": "code",
   "execution_count": 46,
   "metadata": {},
   "outputs": [
    {
     "name": "stdout",
     "output_type": "stream",
     "text": [
      "<class 'pandas.core.frame.DataFrame'>\n",
      "RangeIndex: 50000 entries, 0 to 49999\n",
      "Data columns (total 49 columns):\n",
      " #   Column                            Non-Null Count  Dtype  \n",
      "---  ------                            --------------  -----  \n",
      " 0   ID                                50000 non-null  int64  \n",
      " 1   Age                               50000 non-null  int64  \n",
      " 2   Experience_Years                  50000 non-null  int64  \n",
      " 3   Monthly_Salary_INR                50000 non-null  float64\n",
      " 4   Working_Hours_per_Week            50000 non-null  int64  \n",
      " 5   Commute_Time_Hours                50000 non-null  float64\n",
      " 6   Remote_Work                       50000 non-null  int64  \n",
      " 7   Stress_Level                      50000 non-null  float64\n",
      " 8   Sleep_Hours                       50000 non-null  float64\n",
      " 9   Physical_Activity_Hours_per_Week  50000 non-null  float64\n",
      " 10  Manager_Support_Level             50000 non-null  int64  \n",
      " 11  Work_Pressure_Level               50000 non-null  float64\n",
      " 12  Annual_Leaves_Taken               50000 non-null  float64\n",
      " 13  Work_Life_Balance                 50000 non-null  float64\n",
      " 14  Family_Support_Level              50000 non-null  int64  \n",
      " 15  Job_Satisfaction                  50000 non-null  int64  \n",
      " 16  Performance_Rating                50000 non-null  float64\n",
      " 17  Team_Size                         50000 non-null  int64  \n",
      " 18  Training_Opportunities            50000 non-null  int64  \n",
      " 19  Gender_Bias_Experienced           50000 non-null  int64  \n",
      " 20  Discrimination_Experienced        50000 non-null  int64  \n",
      " 21  Gender_Male                       50000 non-null  bool   \n",
      " 22  Gender_Non-Binary                 50000 non-null  bool   \n",
      " 23  Marital_Status_Married            50000 non-null  bool   \n",
      " 24  Marital_Status_Single             50000 non-null  bool   \n",
      " 25  Marital_Status_Widowed            50000 non-null  bool   \n",
      " 26  Job_Role_Developer                50000 non-null  bool   \n",
      " 27  Job_Role_HR                       50000 non-null  bool   \n",
      " 28  Job_Role_Manager                  50000 non-null  bool   \n",
      " 29  Job_Role_Sales                    50000 non-null  bool   \n",
      " 30  Job_Role_Support                  50000 non-null  bool   \n",
      " 31  Health_Issues_Mental              50000 non-null  bool   \n",
      " 32  Health_Issues_Physical            50000 non-null  bool   \n",
      " 33  Company_Size_Medium               50000 non-null  bool   \n",
      " 34  Company_Size_Small                50000 non-null  bool   \n",
      " 35  Department_Finance                50000 non-null  bool   \n",
      " 36  Department_HR                     50000 non-null  bool   \n",
      " 37  Department_IT                     50000 non-null  bool   \n",
      " 38  Department_Marketing              50000 non-null  bool   \n",
      " 39  Department_Sales                  50000 non-null  bool   \n",
      " 40  Mental_Health_Leave_Taken_True    50000 non-null  bool   \n",
      " 41  Mental_Health_Leave_Taken_FALSE   50000 non-null  bool   \n",
      " 42  Mental_Health_Leave_Taken_TRUE    50000 non-null  bool   \n",
      " 43  Burnout_Symptoms_No               50000 non-null  bool   \n",
      " 44  Burnout_Symptoms_Occasional       50000 non-null  bool   \n",
      " 45  Burnout_Symptoms_Yes              50000 non-null  bool   \n",
      " 46  Location_Tier-1                   50000 non-null  bool   \n",
      " 47  Location_Tier-2                   50000 non-null  bool   \n",
      " 48  Location_Tier-3                   50000 non-null  bool   \n",
      "dtypes: bool(28), float64(9), int64(12)\n",
      "memory usage: 9.3 MB\n"
     ]
    }
   ],
   "source": [
    "df.info()"
   ]
  },
  {
   "cell_type": "code",
   "execution_count": 50,
   "metadata": {},
   "outputs": [],
   "source": [
    "bol=df.select_dtypes(include=['bool']).columns.tolist() # bool ustunlarni chaqirib oldim"
   ]
  },
  {
   "cell_type": "code",
   "execution_count": 51,
   "metadata": {},
   "outputs": [
    {
     "name": "stdout",
     "output_type": "stream",
     "text": [
      "['Gender_Male', 'Gender_Non-Binary', 'Marital_Status_Married', 'Marital_Status_Single', 'Marital_Status_Widowed', 'Job_Role_Developer', 'Job_Role_HR', 'Job_Role_Manager', 'Job_Role_Sales', 'Job_Role_Support', 'Health_Issues_Mental', 'Health_Issues_Physical', 'Company_Size_Medium', 'Company_Size_Small', 'Department_Finance', 'Department_HR', 'Department_IT', 'Department_Marketing', 'Department_Sales', 'Mental_Health_Leave_Taken_True', 'Mental_Health_Leave_Taken_FALSE', 'Mental_Health_Leave_Taken_TRUE', 'Burnout_Symptoms_No', 'Burnout_Symptoms_Occasional', 'Burnout_Symptoms_Yes', 'Location_Tier-1', 'Location_Tier-2', 'Location_Tier-3']\n"
     ]
    }
   ],
   "source": [
    "print(bol)"
   ]
  },
  {
   "cell_type": "code",
   "execution_count": 52,
   "metadata": {},
   "outputs": [
    {
     "name": "stderr",
     "output_type": "stream",
     "text": [
      "/var/folders/30/rhygxw913tvdqrfklnsl3gx00000gn/T/ipykernel_29846/1328590705.py:1: FutureWarning: Downcasting behavior in `replace` is deprecated and will be removed in a future version. To retain the old behavior, explicitly call `result.infer_objects(copy=False)`. To opt-in to the future behavior, set `pd.set_option('future.no_silent_downcasting', True)`\n",
      "  df[bol] = df[bol].replace({True:1 , False:0}) # bu yerda bool data turini intga o'zgartirib oldim\n"
     ]
    }
   ],
   "source": [
    "df[bol] = df[bol].replace({True:1 , False:0}) # bu yerda bool data turini intga o'zgartirib oldim"
   ]
  },
  {
   "cell_type": "code",
   "execution_count": 58,
   "metadata": {},
   "outputs": [],
   "source": [
    "df=df.astype(int) # bu yerda barcha datalarni intga aylantirib oldim"
   ]
  },
  {
   "cell_type": "code",
   "execution_count": 59,
   "metadata": {},
   "outputs": [
    {
     "name": "stdout",
     "output_type": "stream",
     "text": [
      "<class 'pandas.core.frame.DataFrame'>\n",
      "RangeIndex: 50000 entries, 0 to 49999\n",
      "Data columns (total 49 columns):\n",
      " #   Column                            Non-Null Count  Dtype\n",
      "---  ------                            --------------  -----\n",
      " 0   ID                                50000 non-null  int64\n",
      " 1   Age                               50000 non-null  int64\n",
      " 2   Experience_Years                  50000 non-null  int64\n",
      " 3   Monthly_Salary_INR                50000 non-null  int64\n",
      " 4   Working_Hours_per_Week            50000 non-null  int64\n",
      " 5   Commute_Time_Hours                50000 non-null  int64\n",
      " 6   Remote_Work                       50000 non-null  int64\n",
      " 7   Stress_Level                      50000 non-null  int64\n",
      " 8   Sleep_Hours                       50000 non-null  int64\n",
      " 9   Physical_Activity_Hours_per_Week  50000 non-null  int64\n",
      " 10  Manager_Support_Level             50000 non-null  int64\n",
      " 11  Work_Pressure_Level               50000 non-null  int64\n",
      " 12  Annual_Leaves_Taken               50000 non-null  int64\n",
      " 13  Work_Life_Balance                 50000 non-null  int64\n",
      " 14  Family_Support_Level              50000 non-null  int64\n",
      " 15  Job_Satisfaction                  50000 non-null  int64\n",
      " 16  Performance_Rating                50000 non-null  int64\n",
      " 17  Team_Size                         50000 non-null  int64\n",
      " 18  Training_Opportunities            50000 non-null  int64\n",
      " 19  Gender_Bias_Experienced           50000 non-null  int64\n",
      " 20  Discrimination_Experienced        50000 non-null  int64\n",
      " 21  Gender_Male                       50000 non-null  int64\n",
      " 22  Gender_Non-Binary                 50000 non-null  int64\n",
      " 23  Marital_Status_Married            50000 non-null  int64\n",
      " 24  Marital_Status_Single             50000 non-null  int64\n",
      " 25  Marital_Status_Widowed            50000 non-null  int64\n",
      " 26  Job_Role_Developer                50000 non-null  int64\n",
      " 27  Job_Role_HR                       50000 non-null  int64\n",
      " 28  Job_Role_Manager                  50000 non-null  int64\n",
      " 29  Job_Role_Sales                    50000 non-null  int64\n",
      " 30  Job_Role_Support                  50000 non-null  int64\n",
      " 31  Health_Issues_Mental              50000 non-null  int64\n",
      " 32  Health_Issues_Physical            50000 non-null  int64\n",
      " 33  Company_Size_Medium               50000 non-null  int64\n",
      " 34  Company_Size_Small                50000 non-null  int64\n",
      " 35  Department_Finance                50000 non-null  int64\n",
      " 36  Department_HR                     50000 non-null  int64\n",
      " 37  Department_IT                     50000 non-null  int64\n",
      " 38  Department_Marketing              50000 non-null  int64\n",
      " 39  Department_Sales                  50000 non-null  int64\n",
      " 40  Mental_Health_Leave_Taken_True    50000 non-null  int64\n",
      " 41  Mental_Health_Leave_Taken_FALSE   50000 non-null  int64\n",
      " 42  Mental_Health_Leave_Taken_TRUE    50000 non-null  int64\n",
      " 43  Burnout_Symptoms_No               50000 non-null  int64\n",
      " 44  Burnout_Symptoms_Occasional       50000 non-null  int64\n",
      " 45  Burnout_Symptoms_Yes              50000 non-null  int64\n",
      " 46  Location_Tier-1                   50000 non-null  int64\n",
      " 47  Location_Tier-2                   50000 non-null  int64\n",
      " 48  Location_Tier-3                   50000 non-null  int64\n",
      "dtypes: int64(49)\n",
      "memory usage: 18.7 MB\n"
     ]
    }
   ],
   "source": [
    "df.info()"
   ]
  },
  {
   "cell_type": "code",
   "execution_count": null,
   "metadata": {},
   "outputs": [],
   "source": [
    "X = df.drop(columns=['Burnount_Syptoms'])\n",
    "y = df['Burnount_Syptoms']\n",
    "# shu yergacha kela oldim , lekin bu yerda Burnout x va Y ga mos kelmadi sababi men yuqorida get dummies bilan o'zgartirib olganim uchun \n",
    "# 3 ta alohida ustun ochib berdi shuning uchun bu buyruqni chaqira olmadi, hatoyimni tushundim lekin vaqt yetmay qolgani uchun davom ettira olmadim"
   ]
  },
  {
   "cell_type": "code",
   "execution_count": null,
   "metadata": {},
   "outputs": [],
   "source": []
  }
 ],
 "metadata": {
  "kernelspec": {
   "display_name": "Python 3",
   "language": "python",
   "name": "python3"
  },
  "language_info": {
   "codemirror_mode": {
    "name": "ipython",
    "version": 3
   },
   "file_extension": ".py",
   "mimetype": "text/x-python",
   "name": "python",
   "nbconvert_exporter": "python",
   "pygments_lexer": "ipython3",
   "version": "3.12.3"
  }
 },
 "nbformat": 4,
 "nbformat_minor": 2
}
